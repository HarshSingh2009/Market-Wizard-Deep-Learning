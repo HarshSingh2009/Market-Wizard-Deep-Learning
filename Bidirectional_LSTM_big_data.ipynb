{
 "cells": [
  {
   "cell_type": "markdown",
   "metadata": {
    "id": "AXkXrx8FIrP1"
   },
   "source": [
    "# Stock Market Prediction and Forecasting using Stacked Bidirectional LSTM with big data"
   ]
  },
  {
   "cell_type": "code",
   "execution_count": 3,
   "metadata": {
    "id": "8QwggcTsJcwX"
   },
   "outputs": [],
   "source": [
    "import numpy as np\n",
    "import matplotlib.pyplot as plt\n",
    "from tiingo import TiingoClient\n",
    "import pandas as pd\n",
    "from datetime import datetime"
   ]
  },
  {
   "cell_type": "markdown",
   "metadata": {
    "id": "jaNnj5dMI5CA"
   },
   "source": [
    "## Stock Data Collection"
   ]
  },
  {
   "cell_type": "code",
   "execution_count": 4,
   "metadata": {
    "id": "h4p2ed0G7OOo"
   },
   "outputs": [],
   "source": [
    "API_KEY = '045ee573e2f164700d7bb102340fdf3b23b8489c'\n",
    "def get_data_set(stock_code):\n",
    "    config = {\n",
    "        'api_key': API_KEY,\n",
    "        'session': True\n",
    "    }\n",
    "\n",
    "    client = TiingoClient(config)\n",
    "    end_date = datetime(2023, 6, 30)  # Specify the desired end date\n",
    "    start_date = end_date.replace(year=end_date.year - 10)  # Assuming 5 years of data\n",
    "\n",
    "    df = client.get_dataframe(stock_code, frequency='daily', startDate=start_date, endDate=end_date)\n",
    "    df.to_csv(f'{stock_code}.csv')\n",
    "    df = pd.read_csv(f'{stock_code}.csv', index_col='date', parse_dates=True)\n",
    "\n",
    "    return df"
   ]
  },
  {
   "cell_type": "code",
   "execution_count": 5,
   "metadata": {
    "id": "uXOOjmFd7OOp"
   },
   "outputs": [],
   "source": [
    "df = get_data_set('AAPL')"
   ]
  },
  {
   "cell_type": "code",
   "execution_count": 6,
   "metadata": {
    "colab": {
     "base_uri": "https://localhost:8080/",
     "height": 388
    },
    "id": "O-_Lyw0lqmK7",
    "outputId": "e7b8f4bf-3d3d-449b-c025-33399224254b"
   },
   "outputs": [
    {
     "data": {
      "text/html": [
       "\n",
       "  <div id=\"df-ea183a78-9715-4670-a93b-2a32a465b9a6\">\n",
       "    <div class=\"colab-df-container\">\n",
       "      <div>\n",
       "<style scoped>\n",
       "    .dataframe tbody tr th:only-of-type {\n",
       "        vertical-align: middle;\n",
       "    }\n",
       "\n",
       "    .dataframe tbody tr th {\n",
       "        vertical-align: top;\n",
       "    }\n",
       "\n",
       "    .dataframe thead th {\n",
       "        text-align: right;\n",
       "    }\n",
       "</style>\n",
       "<table border=\"1\" class=\"dataframe\">\n",
       "  <thead>\n",
       "    <tr style=\"text-align: right;\">\n",
       "      <th></th>\n",
       "      <th>close</th>\n",
       "      <th>high</th>\n",
       "      <th>low</th>\n",
       "      <th>open</th>\n",
       "      <th>volume</th>\n",
       "      <th>adjClose</th>\n",
       "      <th>adjHigh</th>\n",
       "      <th>adjLow</th>\n",
       "      <th>adjOpen</th>\n",
       "      <th>adjVolume</th>\n",
       "      <th>divCash</th>\n",
       "      <th>splitFactor</th>\n",
       "    </tr>\n",
       "    <tr>\n",
       "      <th>date</th>\n",
       "      <th></th>\n",
       "      <th></th>\n",
       "      <th></th>\n",
       "      <th></th>\n",
       "      <th></th>\n",
       "      <th></th>\n",
       "      <th></th>\n",
       "      <th></th>\n",
       "      <th></th>\n",
       "      <th></th>\n",
       "      <th></th>\n",
       "      <th></th>\n",
       "    </tr>\n",
       "  </thead>\n",
       "  <tbody>\n",
       "    <tr>\n",
       "      <th>2013-07-01 00:00:00+00:00</th>\n",
       "      <td>409.22</td>\n",
       "      <td>412.27</td>\n",
       "      <td>401.22</td>\n",
       "      <td>402.69</td>\n",
       "      <td>13966200</td>\n",
       "      <td>12.687699</td>\n",
       "      <td>12.782263</td>\n",
       "      <td>12.439663</td>\n",
       "      <td>12.485239</td>\n",
       "      <td>391053991</td>\n",
       "      <td>0.0</td>\n",
       "      <td>1.0</td>\n",
       "    </tr>\n",
       "    <tr>\n",
       "      <th>2013-07-02 00:00:00+00:00</th>\n",
       "      <td>418.49</td>\n",
       "      <td>421.63</td>\n",
       "      <td>409.47</td>\n",
       "      <td>409.96</td>\n",
       "      <td>16780900</td>\n",
       "      <td>12.975112</td>\n",
       "      <td>13.072466</td>\n",
       "      <td>12.695450</td>\n",
       "      <td>12.710643</td>\n",
       "      <td>469865669</td>\n",
       "      <td>0.0</td>\n",
       "      <td>1.0</td>\n",
       "    </tr>\n",
       "    <tr>\n",
       "      <th>2013-07-03 00:00:00+00:00</th>\n",
       "      <td>420.80</td>\n",
       "      <td>422.98</td>\n",
       "      <td>417.45</td>\n",
       "      <td>420.86</td>\n",
       "      <td>8604600</td>\n",
       "      <td>13.046733</td>\n",
       "      <td>13.114323</td>\n",
       "      <td>12.942867</td>\n",
       "      <td>13.048593</td>\n",
       "      <td>240929040</td>\n",
       "      <td>0.0</td>\n",
       "      <td>1.0</td>\n",
       "    </tr>\n",
       "    <tr>\n",
       "      <th>2013-07-05 00:00:00+00:00</th>\n",
       "      <td>417.42</td>\n",
       "      <td>423.29</td>\n",
       "      <td>415.35</td>\n",
       "      <td>420.39</td>\n",
       "      <td>9786600</td>\n",
       "      <td>12.941937</td>\n",
       "      <td>13.123934</td>\n",
       "      <td>12.877757</td>\n",
       "      <td>13.034021</td>\n",
       "      <td>274025074</td>\n",
       "      <td>0.0</td>\n",
       "      <td>1.0</td>\n",
       "    </tr>\n",
       "    <tr>\n",
       "      <th>2013-07-08 00:00:00+00:00</th>\n",
       "      <td>415.05</td>\n",
       "      <td>421.00</td>\n",
       "      <td>410.65</td>\n",
       "      <td>420.11</td>\n",
       "      <td>10647800</td>\n",
       "      <td>12.868456</td>\n",
       "      <td>13.052933</td>\n",
       "      <td>12.732036</td>\n",
       "      <td>13.025339</td>\n",
       "      <td>298138698</td>\n",
       "      <td>0.0</td>\n",
       "      <td>1.0</td>\n",
       "    </tr>\n",
       "  </tbody>\n",
       "</table>\n",
       "</div>\n",
       "      <button class=\"colab-df-convert\" onclick=\"convertToInteractive('df-ea183a78-9715-4670-a93b-2a32a465b9a6')\"\n",
       "              title=\"Convert this dataframe to an interactive table.\"\n",
       "              style=\"display:none;\">\n",
       "        \n",
       "  <svg xmlns=\"http://www.w3.org/2000/svg\" height=\"24px\"viewBox=\"0 0 24 24\"\n",
       "       width=\"24px\">\n",
       "    <path d=\"M0 0h24v24H0V0z\" fill=\"none\"/>\n",
       "    <path d=\"M18.56 5.44l.94 2.06.94-2.06 2.06-.94-2.06-.94-.94-2.06-.94 2.06-2.06.94zm-11 1L8.5 8.5l.94-2.06 2.06-.94-2.06-.94L8.5 2.5l-.94 2.06-2.06.94zm10 10l.94 2.06.94-2.06 2.06-.94-2.06-.94-.94-2.06-.94 2.06-2.06.94z\"/><path d=\"M17.41 7.96l-1.37-1.37c-.4-.4-.92-.59-1.43-.59-.52 0-1.04.2-1.43.59L10.3 9.45l-7.72 7.72c-.78.78-.78 2.05 0 2.83L4 21.41c.39.39.9.59 1.41.59.51 0 1.02-.2 1.41-.59l7.78-7.78 2.81-2.81c.8-.78.8-2.07 0-2.86zM5.41 20L4 18.59l7.72-7.72 1.47 1.35L5.41 20z\"/>\n",
       "  </svg>\n",
       "      </button>\n",
       "      \n",
       "  <style>\n",
       "    .colab-df-container {\n",
       "      display:flex;\n",
       "      flex-wrap:wrap;\n",
       "      gap: 12px;\n",
       "    }\n",
       "\n",
       "    .colab-df-convert {\n",
       "      background-color: #E8F0FE;\n",
       "      border: none;\n",
       "      border-radius: 50%;\n",
       "      cursor: pointer;\n",
       "      display: none;\n",
       "      fill: #1967D2;\n",
       "      height: 32px;\n",
       "      padding: 0 0 0 0;\n",
       "      width: 32px;\n",
       "    }\n",
       "\n",
       "    .colab-df-convert:hover {\n",
       "      background-color: #E2EBFA;\n",
       "      box-shadow: 0px 1px 2px rgba(60, 64, 67, 0.3), 0px 1px 3px 1px rgba(60, 64, 67, 0.15);\n",
       "      fill: #174EA6;\n",
       "    }\n",
       "\n",
       "    [theme=dark] .colab-df-convert {\n",
       "      background-color: #3B4455;\n",
       "      fill: #D2E3FC;\n",
       "    }\n",
       "\n",
       "    [theme=dark] .colab-df-convert:hover {\n",
       "      background-color: #434B5C;\n",
       "      box-shadow: 0px 1px 3px 1px rgba(0, 0, 0, 0.15);\n",
       "      filter: drop-shadow(0px 1px 2px rgba(0, 0, 0, 0.3));\n",
       "      fill: #FFFFFF;\n",
       "    }\n",
       "  </style>\n",
       "\n",
       "      <script>\n",
       "        const buttonEl =\n",
       "          document.querySelector('#df-ea183a78-9715-4670-a93b-2a32a465b9a6 button.colab-df-convert');\n",
       "        buttonEl.style.display =\n",
       "          google.colab.kernel.accessAllowed ? 'block' : 'none';\n",
       "\n",
       "        async function convertToInteractive(key) {\n",
       "          const element = document.querySelector('#df-ea183a78-9715-4670-a93b-2a32a465b9a6');\n",
       "          const dataTable =\n",
       "            await google.colab.kernel.invokeFunction('convertToInteractive',\n",
       "                                                     [key], {});\n",
       "          if (!dataTable) return;\n",
       "\n",
       "          const docLinkHtml = 'Like what you see? Visit the ' +\n",
       "            '<a target=\"_blank\" href=https://colab.research.google.com/notebooks/data_table.ipynb>data table notebook</a>'\n",
       "            + ' to learn more about interactive tables.';\n",
       "          element.innerHTML = '';\n",
       "          dataTable['output_type'] = 'display_data';\n",
       "          await google.colab.output.renderOutput(dataTable, element);\n",
       "          const docLink = document.createElement('div');\n",
       "          docLink.innerHTML = docLinkHtml;\n",
       "          element.appendChild(docLink);\n",
       "        }\n",
       "      </script>\n",
       "    </div>\n",
       "  </div>\n",
       "  "
      ],
      "text/plain": [
       "                            close    high     low    open    volume  \\\n",
       "date                                                                  \n",
       "2013-07-01 00:00:00+00:00  409.22  412.27  401.22  402.69  13966200   \n",
       "2013-07-02 00:00:00+00:00  418.49  421.63  409.47  409.96  16780900   \n",
       "2013-07-03 00:00:00+00:00  420.80  422.98  417.45  420.86   8604600   \n",
       "2013-07-05 00:00:00+00:00  417.42  423.29  415.35  420.39   9786600   \n",
       "2013-07-08 00:00:00+00:00  415.05  421.00  410.65  420.11  10647800   \n",
       "\n",
       "                            adjClose    adjHigh     adjLow    adjOpen  \\\n",
       "date                                                                    \n",
       "2013-07-01 00:00:00+00:00  12.687699  12.782263  12.439663  12.485239   \n",
       "2013-07-02 00:00:00+00:00  12.975112  13.072466  12.695450  12.710643   \n",
       "2013-07-03 00:00:00+00:00  13.046733  13.114323  12.942867  13.048593   \n",
       "2013-07-05 00:00:00+00:00  12.941937  13.123934  12.877757  13.034021   \n",
       "2013-07-08 00:00:00+00:00  12.868456  13.052933  12.732036  13.025339   \n",
       "\n",
       "                           adjVolume  divCash  splitFactor  \n",
       "date                                                        \n",
       "2013-07-01 00:00:00+00:00  391053991      0.0          1.0  \n",
       "2013-07-02 00:00:00+00:00  469865669      0.0          1.0  \n",
       "2013-07-03 00:00:00+00:00  240929040      0.0          1.0  \n",
       "2013-07-05 00:00:00+00:00  274025074      0.0          1.0  \n",
       "2013-07-08 00:00:00+00:00  298138698      0.0          1.0  "
      ]
     },
     "execution_count": 6,
     "metadata": {},
     "output_type": "execute_result"
    }
   ],
   "source": [
    "df.head()"
   ]
  },
  {
   "cell_type": "code",
   "execution_count": 7,
   "metadata": {
    "colab": {
     "base_uri": "https://localhost:8080/",
     "height": 388
    },
    "id": "VmMNLJ-kqmNY",
    "outputId": "ee79ac1a-bb6d-4cb3-d59d-65cc13f735e7"
   },
   "outputs": [
    {
     "data": {
      "text/html": [
       "\n",
       "  <div id=\"df-5918af9a-47a2-4ee5-bf2d-469bb7bc9fa8\">\n",
       "    <div class=\"colab-df-container\">\n",
       "      <div>\n",
       "<style scoped>\n",
       "    .dataframe tbody tr th:only-of-type {\n",
       "        vertical-align: middle;\n",
       "    }\n",
       "\n",
       "    .dataframe tbody tr th {\n",
       "        vertical-align: top;\n",
       "    }\n",
       "\n",
       "    .dataframe thead th {\n",
       "        text-align: right;\n",
       "    }\n",
       "</style>\n",
       "<table border=\"1\" class=\"dataframe\">\n",
       "  <thead>\n",
       "    <tr style=\"text-align: right;\">\n",
       "      <th></th>\n",
       "      <th>close</th>\n",
       "      <th>high</th>\n",
       "      <th>low</th>\n",
       "      <th>open</th>\n",
       "      <th>volume</th>\n",
       "      <th>adjClose</th>\n",
       "      <th>adjHigh</th>\n",
       "      <th>adjLow</th>\n",
       "      <th>adjOpen</th>\n",
       "      <th>adjVolume</th>\n",
       "      <th>divCash</th>\n",
       "      <th>splitFactor</th>\n",
       "    </tr>\n",
       "    <tr>\n",
       "      <th>date</th>\n",
       "      <th></th>\n",
       "      <th></th>\n",
       "      <th></th>\n",
       "      <th></th>\n",
       "      <th></th>\n",
       "      <th></th>\n",
       "      <th></th>\n",
       "      <th></th>\n",
       "      <th></th>\n",
       "      <th></th>\n",
       "      <th></th>\n",
       "      <th></th>\n",
       "    </tr>\n",
       "  </thead>\n",
       "  <tbody>\n",
       "    <tr>\n",
       "      <th>2023-06-26 00:00:00+00:00</th>\n",
       "      <td>185.27</td>\n",
       "      <td>188.05</td>\n",
       "      <td>185.23</td>\n",
       "      <td>186.83</td>\n",
       "      <td>48088661</td>\n",
       "      <td>185.27</td>\n",
       "      <td>188.05</td>\n",
       "      <td>185.23</td>\n",
       "      <td>186.83</td>\n",
       "      <td>48088661</td>\n",
       "      <td>0.0</td>\n",
       "      <td>1.0</td>\n",
       "    </tr>\n",
       "    <tr>\n",
       "      <th>2023-06-27 00:00:00+00:00</th>\n",
       "      <td>188.06</td>\n",
       "      <td>188.39</td>\n",
       "      <td>185.67</td>\n",
       "      <td>185.89</td>\n",
       "      <td>50730846</td>\n",
       "      <td>188.06</td>\n",
       "      <td>188.39</td>\n",
       "      <td>185.67</td>\n",
       "      <td>185.89</td>\n",
       "      <td>50730846</td>\n",
       "      <td>0.0</td>\n",
       "      <td>1.0</td>\n",
       "    </tr>\n",
       "    <tr>\n",
       "      <th>2023-06-28 00:00:00+00:00</th>\n",
       "      <td>189.25</td>\n",
       "      <td>189.90</td>\n",
       "      <td>187.60</td>\n",
       "      <td>187.93</td>\n",
       "      <td>51216801</td>\n",
       "      <td>189.25</td>\n",
       "      <td>189.90</td>\n",
       "      <td>187.60</td>\n",
       "      <td>187.93</td>\n",
       "      <td>51216801</td>\n",
       "      <td>0.0</td>\n",
       "      <td>1.0</td>\n",
       "    </tr>\n",
       "    <tr>\n",
       "      <th>2023-06-29 00:00:00+00:00</th>\n",
       "      <td>189.59</td>\n",
       "      <td>190.07</td>\n",
       "      <td>188.94</td>\n",
       "      <td>189.08</td>\n",
       "      <td>46347308</td>\n",
       "      <td>189.59</td>\n",
       "      <td>190.07</td>\n",
       "      <td>188.94</td>\n",
       "      <td>189.08</td>\n",
       "      <td>46347308</td>\n",
       "      <td>0.0</td>\n",
       "      <td>1.0</td>\n",
       "    </tr>\n",
       "    <tr>\n",
       "      <th>2023-06-30 00:00:00+00:00</th>\n",
       "      <td>193.97</td>\n",
       "      <td>194.48</td>\n",
       "      <td>191.26</td>\n",
       "      <td>191.63</td>\n",
       "      <td>85213216</td>\n",
       "      <td>193.97</td>\n",
       "      <td>194.48</td>\n",
       "      <td>191.26</td>\n",
       "      <td>191.63</td>\n",
       "      <td>85213216</td>\n",
       "      <td>0.0</td>\n",
       "      <td>1.0</td>\n",
       "    </tr>\n",
       "  </tbody>\n",
       "</table>\n",
       "</div>\n",
       "      <button class=\"colab-df-convert\" onclick=\"convertToInteractive('df-5918af9a-47a2-4ee5-bf2d-469bb7bc9fa8')\"\n",
       "              title=\"Convert this dataframe to an interactive table.\"\n",
       "              style=\"display:none;\">\n",
       "        \n",
       "  <svg xmlns=\"http://www.w3.org/2000/svg\" height=\"24px\"viewBox=\"0 0 24 24\"\n",
       "       width=\"24px\">\n",
       "    <path d=\"M0 0h24v24H0V0z\" fill=\"none\"/>\n",
       "    <path d=\"M18.56 5.44l.94 2.06.94-2.06 2.06-.94-2.06-.94-.94-2.06-.94 2.06-2.06.94zm-11 1L8.5 8.5l.94-2.06 2.06-.94-2.06-.94L8.5 2.5l-.94 2.06-2.06.94zm10 10l.94 2.06.94-2.06 2.06-.94-2.06-.94-.94-2.06-.94 2.06-2.06.94z\"/><path d=\"M17.41 7.96l-1.37-1.37c-.4-.4-.92-.59-1.43-.59-.52 0-1.04.2-1.43.59L10.3 9.45l-7.72 7.72c-.78.78-.78 2.05 0 2.83L4 21.41c.39.39.9.59 1.41.59.51 0 1.02-.2 1.41-.59l7.78-7.78 2.81-2.81c.8-.78.8-2.07 0-2.86zM5.41 20L4 18.59l7.72-7.72 1.47 1.35L5.41 20z\"/>\n",
       "  </svg>\n",
       "      </button>\n",
       "      \n",
       "  <style>\n",
       "    .colab-df-container {\n",
       "      display:flex;\n",
       "      flex-wrap:wrap;\n",
       "      gap: 12px;\n",
       "    }\n",
       "\n",
       "    .colab-df-convert {\n",
       "      background-color: #E8F0FE;\n",
       "      border: none;\n",
       "      border-radius: 50%;\n",
       "      cursor: pointer;\n",
       "      display: none;\n",
       "      fill: #1967D2;\n",
       "      height: 32px;\n",
       "      padding: 0 0 0 0;\n",
       "      width: 32px;\n",
       "    }\n",
       "\n",
       "    .colab-df-convert:hover {\n",
       "      background-color: #E2EBFA;\n",
       "      box-shadow: 0px 1px 2px rgba(60, 64, 67, 0.3), 0px 1px 3px 1px rgba(60, 64, 67, 0.15);\n",
       "      fill: #174EA6;\n",
       "    }\n",
       "\n",
       "    [theme=dark] .colab-df-convert {\n",
       "      background-color: #3B4455;\n",
       "      fill: #D2E3FC;\n",
       "    }\n",
       "\n",
       "    [theme=dark] .colab-df-convert:hover {\n",
       "      background-color: #434B5C;\n",
       "      box-shadow: 0px 1px 3px 1px rgba(0, 0, 0, 0.15);\n",
       "      filter: drop-shadow(0px 1px 2px rgba(0, 0, 0, 0.3));\n",
       "      fill: #FFFFFF;\n",
       "    }\n",
       "  </style>\n",
       "\n",
       "      <script>\n",
       "        const buttonEl =\n",
       "          document.querySelector('#df-5918af9a-47a2-4ee5-bf2d-469bb7bc9fa8 button.colab-df-convert');\n",
       "        buttonEl.style.display =\n",
       "          google.colab.kernel.accessAllowed ? 'block' : 'none';\n",
       "\n",
       "        async function convertToInteractive(key) {\n",
       "          const element = document.querySelector('#df-5918af9a-47a2-4ee5-bf2d-469bb7bc9fa8');\n",
       "          const dataTable =\n",
       "            await google.colab.kernel.invokeFunction('convertToInteractive',\n",
       "                                                     [key], {});\n",
       "          if (!dataTable) return;\n",
       "\n",
       "          const docLinkHtml = 'Like what you see? Visit the ' +\n",
       "            '<a target=\"_blank\" href=https://colab.research.google.com/notebooks/data_table.ipynb>data table notebook</a>'\n",
       "            + ' to learn more about interactive tables.';\n",
       "          element.innerHTML = '';\n",
       "          dataTable['output_type'] = 'display_data';\n",
       "          await google.colab.output.renderOutput(dataTable, element);\n",
       "          const docLink = document.createElement('div');\n",
       "          docLink.innerHTML = docLinkHtml;\n",
       "          element.appendChild(docLink);\n",
       "        }\n",
       "      </script>\n",
       "    </div>\n",
       "  </div>\n",
       "  "
      ],
      "text/plain": [
       "                            close    high     low    open    volume  adjClose  \\\n",
       "date                                                                            \n",
       "2023-06-26 00:00:00+00:00  185.27  188.05  185.23  186.83  48088661    185.27   \n",
       "2023-06-27 00:00:00+00:00  188.06  188.39  185.67  185.89  50730846    188.06   \n",
       "2023-06-28 00:00:00+00:00  189.25  189.90  187.60  187.93  51216801    189.25   \n",
       "2023-06-29 00:00:00+00:00  189.59  190.07  188.94  189.08  46347308    189.59   \n",
       "2023-06-30 00:00:00+00:00  193.97  194.48  191.26  191.63  85213216    193.97   \n",
       "\n",
       "                           adjHigh  adjLow  adjOpen  adjVolume  divCash  \\\n",
       "date                                                                      \n",
       "2023-06-26 00:00:00+00:00   188.05  185.23   186.83   48088661      0.0   \n",
       "2023-06-27 00:00:00+00:00   188.39  185.67   185.89   50730846      0.0   \n",
       "2023-06-28 00:00:00+00:00   189.90  187.60   187.93   51216801      0.0   \n",
       "2023-06-29 00:00:00+00:00   190.07  188.94   189.08   46347308      0.0   \n",
       "2023-06-30 00:00:00+00:00   194.48  191.26   191.63   85213216      0.0   \n",
       "\n",
       "                           splitFactor  \n",
       "date                                    \n",
       "2023-06-26 00:00:00+00:00          1.0  \n",
       "2023-06-27 00:00:00+00:00          1.0  \n",
       "2023-06-28 00:00:00+00:00          1.0  \n",
       "2023-06-29 00:00:00+00:00          1.0  \n",
       "2023-06-30 00:00:00+00:00          1.0  "
      ]
     },
     "execution_count": 7,
     "metadata": {},
     "output_type": "execute_result"
    }
   ],
   "source": [
    "df.tail()"
   ]
  },
  {
   "cell_type": "code",
   "execution_count": 8,
   "metadata": {
    "colab": {
     "base_uri": "https://localhost:8080/"
    },
    "id": "2499bR6BrX0G",
    "outputId": "fbb1aa27-6226-4885-e043-d725410cb3d0"
   },
   "outputs": [
    {
     "data": {
      "text/plain": [
       "(2518,)"
      ]
     },
     "execution_count": 8,
     "metadata": {},
     "output_type": "execute_result"
    }
   ],
   "source": [
    "close_column = df.reset_index()['close']\n",
    "close_column.shape"
   ]
  },
  {
   "cell_type": "code",
   "execution_count": 9,
   "metadata": {
    "colab": {
     "base_uri": "https://localhost:8080/",
     "height": 452
    },
    "id": "jhspVlKkrfUG",
    "outputId": "d6faa19a-a6f5-44ba-bb38-2bb1806ac22f"
   },
   "outputs": [
    {
     "data": {
      "image/png": "[encoded data removed]",
      "text/plain": [
       "<Figure size 640x480 with 1 Axes>"
      ]
     },
     "metadata": {},
     "output_type": "display_data"
    }
   ],
   "source": [
    "plt.title('Close Price of AAPL 2018 - 2023')\n",
    "plt.plot(close_column)\n",
    "plt.show()"
   ]
  },
  {
   "cell_type": "markdown",
   "metadata": {
    "id": "HroQDmWJI5Dq"
   },
   "source": [
    "## Data Preprocesing of Time-Series Data"
   ]
  },
  {
   "cell_type": "markdown",
   "metadata": {
    "id": "Tcb9S8Iat7FG"
   },
   "source": [
    "### MinMax Scaling"
   ]
  },
  {
   "cell_type": "code",
   "execution_count": 10,
   "metadata": {
    "colab": {
     "base_uri": "https://localhost:8080/"
    },
    "id": "IPf29qJmsnMD",
    "outputId": "7a31e4a6-2120-43d5-c80c-d8cb8e6dd047"
   },
   "outputs": [
    {
     "data": {
      "text/plain": [
       "0       409.22\n",
       "1       418.49\n",
       "2       420.80\n",
       "3       417.42\n",
       "4       415.05\n",
       "         ...  \n",
       "2513    185.27\n",
       "2514    188.06\n",
       "2515    189.25\n",
       "2516    189.59\n",
       "2517    193.97\n",
       "Name: close, Length: 2518, dtype: float64"
      ]
     },
     "execution_count": 10,
     "metadata": {},
     "output_type": "execute_result"
    }
   ],
   "source": [
    "close_column"
   ]
  },
  {
   "cell_type": "code",
   "execution_count": 11,
   "metadata": {
    "id": "ENQR3oh0JeAH"
   },
   "outputs": [],
   "source": [
    "## LSTM is very sensitive to scale of Data, so we apply MinMax Scaling\n",
    "from sklearn.preprocessing import MinMaxScaler\n",
    "scaler = MinMaxScaler(feature_range=(0, 1))\n",
    "close_df = scaler.fit_transform(np.array(close_column).reshape(-1, 1))"
   ]
  },
  {
   "cell_type": "code",
   "execution_count": 12,
   "metadata": {
    "colab": {
     "base_uri": "https://localhost:8080/"
    },
    "id": "hr0BrHq0sryB",
    "outputId": "595538b0-c54e-42c4-b5b2-547133e0d958"
   },
   "outputs": [
    {
     "name": "stdout",
     "output_type": "stream",
     "text": [
      "[[0.57253128]\n",
      " [0.58917192]\n",
      " [0.59331861]\n",
      " ...\n",
      " [0.17766169]\n",
      " [0.17827203]\n",
      " [0.1861346 ]]\n"
     ]
    }
   ],
   "source": [
    "print(close_df)"
   ]
  },
  {
   "cell_type": "code",
   "execution_count": 13,
   "metadata": {
    "colab": {
     "base_uri": "https://localhost:8080/"
    },
    "id": "dZ4DO1NY1b0z",
    "outputId": "97d75913-5b0b-4bda-ecb9-c32988379149"
   },
   "outputs": [
    {
     "data": {
      "text/plain": [
       "(2518, 1)"
      ]
     },
     "execution_count": 13,
     "metadata": {},
     "output_type": "execute_result"
    }
   ],
   "source": [
    "close_df.shape"
   ]
  },
  {
   "cell_type": "markdown",
   "metadata": {
    "id": "OmN7wNzwt_AC"
   },
   "source": [
    "### Create Train Test Split"
   ]
  },
  {
   "cell_type": "code",
   "execution_count": 14,
   "metadata": {
    "id": "kteR-BcIuCI8"
   },
   "outputs": [],
   "source": [
    "training_size = int(len(close_df)*0.8)\n",
    "test_size = int(len(close_df)-training_size)\n",
    "train_data, test_data = close_df[0:training_size, :], close_df[training_size:len(close_df)]"
   ]
  },
  {
   "cell_type": "code",
   "execution_count": 15,
   "metadata": {
    "colab": {
     "base_uri": "https://localhost:8080/"
    },
    "id": "eA6F0cJmWfhW",
    "outputId": "0f5a3173-bec6-4abd-af27-85037d649173"
   },
   "outputs": [
    {
     "data": {
      "text/plain": [
       "array([[0.57253128],\n",
       "       [0.58917192],\n",
       "       [0.59331861],\n",
       "       [0.58725115],\n",
       "       [0.58299675],\n",
       "       [0.59610103],\n",
       "       [0.59319296],\n",
       "       [0.60496526],\n",
       "       [0.60356867],\n",
       "       [0.60523812],\n",
       "       [0.61018364],\n",
       "       [0.61039008],\n",
       "       [0.61298939],\n",
       "       [0.60076831],\n",
       "       [0.60320965],\n",
       "       [0.59006947],\n",
       "       [0.62870016],\n",
       "       [0.625092  ],\n",
       "       [0.62956181],\n",
       "       [0.64176854]])"
      ]
     },
     "execution_count": 15,
     "metadata": {},
     "output_type": "execute_result"
    }
   ],
   "source": [
    "train_data[:20]"
   ]
  },
  {
   "cell_type": "code",
   "execution_count": 16,
   "metadata": {
    "colab": {
     "base_uri": "https://localhost:8080/"
    },
    "id": "LRaPOxDi28g6",
    "outputId": "e8dee4d6-ed02-4c5f-889b-a721620aa9e0"
   },
   "outputs": [
    {
     "data": {
      "text/plain": [
       "(2014, 504)"
      ]
     },
     "execution_count": 16,
     "metadata": {},
     "output_type": "execute_result"
    }
   ],
   "source": [
    "training_size, test_size"
   ]
  },
  {
   "cell_type": "code",
   "execution_count": 17,
   "metadata": {
    "colab": {
     "base_uri": "https://localhost:8080/"
    },
    "id": "OogASKEK5W_0",
    "outputId": "50343f05-0498-4fdf-aee9-ce2e5b921806"
   },
   "outputs": [
    {
     "data": {
      "text/plain": [
       "(2014, 504)"
      ]
     },
     "execution_count": 17,
     "metadata": {},
     "output_type": "execute_result"
    }
   ],
   "source": [
    "train_data.size, test_data.size"
   ]
  },
  {
   "cell_type": "markdown",
   "metadata": {
    "id": "LWLld3Ak5aqI"
   },
   "source": [
    "### Converting an array of values to dataset matrix"
   ]
  },
  {
   "cell_type": "code",
   "execution_count": 18,
   "metadata": {
    "id": "FA95A1Y85Mim"
   },
   "outputs": [],
   "source": [
    "# Convert an array of values to dataset matrix\n",
    "def create_dataset(dataset, timestep=1):\n",
    "  dataX, dataY = [], []\n",
    "  for i in range(len(dataset)-timestep-1):\n",
    "    a = dataset[i: i+timestep, 0]\n",
    "    dataX.append(a)\n",
    "    dataY.append(dataset[i+timestep, 0])\n",
    "  return np.array(dataX), np.array(dataY)"
   ]
  },
  {
   "cell_type": "code",
   "execution_count": 19,
   "metadata": {
    "id": "PrpKMg427ax4"
   },
   "outputs": [],
   "source": [
    "TIME_STEPS = 150\n",
    "X_train, y_train = create_dataset(train_data, TIME_STEPS)\n",
    "X_test, y_test = create_dataset(test_data, TIME_STEPS)"
   ]
  },
  {
   "cell_type": "code",
   "execution_count": 20,
   "metadata": {
    "colab": {
     "base_uri": "https://localhost:8080/"
    },
    "id": "B3cmRATI78Vy",
    "outputId": "77bbd514-74cb-47ac-bd26-c078535521a7"
   },
   "outputs": [
    {
     "data": {
      "text/plain": [
       "array([[0.57253128, 0.58917192, 0.59331861, ..., 0.73509972, 0.73656812,\n",
       "        0.73823756],\n",
       "       [0.58917192, 0.59331861, 0.58725115, ..., 0.73656812, 0.73823756,\n",
       "        0.75127004],\n",
       "       [0.59331861, 0.58725115, 0.58299675, ..., 0.73823756, 0.75127004,\n",
       "        0.75809144],\n",
       "       ...,\n",
       "       [0.05225555, 0.04981421, 0.05090922, ..., 0.07543038, 0.07844616,\n",
       "        0.07794353],\n",
       "       [0.04981421, 0.05090922, 0.04857558, ..., 0.07844616, 0.07794353,\n",
       "        0.07742295],\n",
       "       [0.05090922, 0.04857558, 0.04231066, ..., 0.07794353, 0.07742295,\n",
       "        0.07688441]])"
      ]
     },
     "execution_count": 20,
     "metadata": {},
     "output_type": "execute_result"
    }
   ],
   "source": [
    "X_train"
   ]
  },
  {
   "cell_type": "code",
   "execution_count": 21,
   "metadata": {
    "colab": {
     "base_uri": "https://localhost:8080/"
    },
    "id": "qP8RezaU8FK3",
    "outputId": "fb3fa958-7143-4972-e0ce-aae7c2e8271b"
   },
   "outputs": [
    {
     "name": "stdout",
     "output_type": "stream",
     "text": [
      "[0.75127004 0.75809144 0.75794783 ... 0.07742295 0.07688441 0.07988224]\n"
     ]
    }
   ],
   "source": [
    "print(y_train)"
   ]
  },
  {
   "cell_type": "code",
   "execution_count": 22,
   "metadata": {
    "colab": {
     "base_uri": "https://localhost:8080/"
    },
    "id": "No-GiYDs8T7w",
    "outputId": "e42e5885-1ed5-4b36-f942-b3a29067a798"
   },
   "outputs": [
    {
     "name": "stdout",
     "output_type": "stream",
     "text": [
      "(1863, 150)\n",
      "(1863,)\n",
      "(353, 150)\n",
      "(353,)\n"
     ]
    },
    {
     "data": {
      "text/plain": [
       "(None, None)"
      ]
     },
     "execution_count": 22,
     "metadata": {},
     "output_type": "execute_result"
    }
   ],
   "source": [
    "print(X_train.shape), print(y_train.shape)\n",
    "print(X_test.shape), print(y_test.shape)"
   ]
  },
  {
   "cell_type": "code",
   "execution_count": 23,
   "metadata": {
    "id": "ttcHs1Rs9DH_"
   },
   "outputs": [],
   "source": [
    "# Converting into 3-dimensional, so we can give the second and third dimension as input to the model\n",
    "X_train = X_train.reshape(X_train.shape[0], X_train.shape[1], 1)\n",
    "X_test = X_test.reshape(X_test.shape[0], X_test.shape[1], 1)"
   ]
  },
  {
   "cell_type": "code",
   "execution_count": 24,
   "metadata": {
    "colab": {
     "base_uri": "https://localhost:8080/"
    },
    "id": "j2yUaXJU9ZOz",
    "outputId": "62038a60-f56f-4adc-8ed8-cd5565d08671"
   },
   "outputs": [
    {
     "name": "stdout",
     "output_type": "stream",
     "text": [
      "(1863, 150, 1)\n",
      "(353, 150, 1)\n"
     ]
    }
   ],
   "source": [
    "print(X_train.shape)\n",
    "print(X_test.shape)"
   ]
  },
  {
   "cell_type": "code",
   "execution_count": 25,
   "metadata": {
    "colab": {
     "base_uri": "https://localhost:8080/"
    },
    "id": "ednDaNsD7OOz",
    "outputId": "aa3ba210-9f06-45e1-dbf8-9ba0c9bd27f5"
   },
   "outputs": [
    {
     "name": "stdout",
     "output_type": "stream",
     "text": [
      "(1863,)\n",
      "(353,)\n"
     ]
    }
   ],
   "source": [
    "print(y_train.shape)\n",
    "print(y_test.shape)"
   ]
  },
  {
   "cell_type": "markdown",
   "metadata": {
    "id": "MJqok6AQI5GG"
   },
   "source": [
    "\n",
    "## Create a Stacked LSTM model"
   ]
  },
  {
   "cell_type": "code",
   "execution_count": 26,
   "metadata": {
    "id": "ORJxmkkk1j9j"
   },
   "outputs": [],
   "source": [
    "import tensorflow as tf\n",
    "from tensorflow import keras\n",
    "from keras.models import Sequential\n",
    "from keras.layers import Bidirectional, LSTM, Dense"
   ]
  },
  {
   "cell_type": "code",
   "execution_count": 27,
   "metadata": {
    "id": "QHHU63sFJeag"
   },
   "outputs": [],
   "source": [
    "model = Sequential()\n",
    "model.add(Bidirectional(LSTM(128, return_sequences=True, input_shape=(150, 1))))\n",
    "model.add(Bidirectional(LSTM(128, return_sequences=True)))\n",
    "model.add(Bidirectional(LSTM(128, return_sequences=True)))\n",
    "model.add(Bidirectional(LSTM(128)))\n",
    "model.add(Dense(1))"
   ]
  },
  {
   "cell_type": "code",
   "execution_count": 29,
   "metadata": {
    "id": "fid-uXb5XJnJ"
   },
   "outputs": [],
   "source": [
    "model.compile(loss='mean_squared_error', optimizer='adam')"
   ]
  },
  {
   "cell_type": "code",
   "execution_count": 30,
   "metadata": {
    "colab": {
     "base_uri": "https://localhost:8080/"
    },
    "id": "56wqM1xf7OO0",
    "outputId": "40aef765-35ac-489b-93a9-b131c467b017"
   },
   "outputs": [
    {
     "name": "stdout",
     "output_type": "stream",
     "text": [
      "Epoch 1/100\n",
      "30/30 [==============================] - 26s 152ms/step - loss: 0.0131 - val_loss: 0.0016\n",
      "Epoch 2/100\n",
      "30/30 [==============================] - 2s 65ms/step - loss: 0.0033 - val_loss: 4.5036e-04\n",
      "Epoch 3/100\n",
      "30/30 [==============================] - 2s 65ms/step - loss: 0.0035 - val_loss: 6.7689e-04\n",
      "Epoch 4/100\n",
      "30/30 [==============================] - 2s 66ms/step - loss: 0.0029 - val_loss: 1.3707e-04\n",
      "Epoch 5/100\n",
      "30/30 [==============================] - 2s 65ms/step - loss: 0.0022 - val_loss: 2.9441e-04\n",
      "Epoch 6/100\n",
      "30/30 [==============================] - 2s 65ms/step - loss: 0.0029 - val_loss: 3.7213e-04\n",
      "Epoch 7/100\n",
      "30/30 [==============================] - 2s 65ms/step - loss: 0.0021 - val_loss: 1.4456e-04\n",
      "Epoch 8/100\n",
      "30/30 [==============================] - 2s 79ms/step - loss: 0.0018 - val_loss: 6.0642e-05\n",
      "Epoch 9/100\n",
      "30/30 [==============================] - 2s 66ms/step - loss: 0.0014 - val_loss: 5.6594e-05\n",
      "Epoch 10/100\n",
      "30/30 [==============================] - 2s 66ms/step - loss: 0.0018 - val_loss: 5.1105e-05\n",
      "Epoch 11/100\n",
      "30/30 [==============================] - 2s 66ms/step - loss: 0.0013 - val_loss: 1.1157e-04\n",
      "Epoch 12/100\n",
      "30/30 [==============================] - 2s 66ms/step - loss: 0.0016 - val_loss: 9.0274e-05\n",
      "Epoch 13/100\n",
      "30/30 [==============================] - 2s 66ms/step - loss: 0.0017 - val_loss: 7.6514e-05\n",
      "Epoch 14/100\n",
      "30/30 [==============================] - 2s 66ms/step - loss: 0.0016 - val_loss: 5.3853e-04\n",
      "Epoch 15/100\n",
      "30/30 [==============================] - 2s 66ms/step - loss: 0.0016 - val_loss: 2.5399e-04\n",
      "Epoch 16/100\n",
      "30/30 [==============================] - 2s 67ms/step - loss: 0.0015 - val_loss: 6.0792e-05\n",
      "Epoch 17/100\n",
      "30/30 [==============================] - 2s 67ms/step - loss: 0.0015 - val_loss: 4.3919e-05\n",
      "Epoch 18/100\n",
      "30/30 [==============================] - 2s 66ms/step - loss: 0.0013 - val_loss: 6.8793e-05\n",
      "Epoch 19/100\n",
      "30/30 [==============================] - 2s 67ms/step - loss: 0.0014 - val_loss: 2.1559e-04\n",
      "Epoch 20/100\n",
      "30/30 [==============================] - 2s 66ms/step - loss: 0.0013 - val_loss: 3.9796e-05\n",
      "Epoch 21/100\n",
      "30/30 [==============================] - 2s 67ms/step - loss: 0.0017 - val_loss: 1.3012e-04\n",
      "Epoch 22/100\n",
      "30/30 [==============================] - 2s 67ms/step - loss: 0.0015 - val_loss: 7.2705e-05\n",
      "Epoch 23/100\n",
      "30/30 [==============================] - 2s 67ms/step - loss: 0.0016 - val_loss: 3.0273e-04\n",
      "Epoch 24/100\n",
      "30/30 [==============================] - 2s 67ms/step - loss: 0.0014 - val_loss: 1.5726e-04\n",
      "Epoch 25/100\n",
      "30/30 [==============================] - 2s 67ms/step - loss: 0.0011 - val_loss: 4.5271e-05\n",
      "Epoch 26/100\n",
      "30/30 [==============================] - 2s 68ms/step - loss: 0.0012 - val_loss: 2.9606e-04\n",
      "Epoch 27/100\n",
      "30/30 [==============================] - 2s 67ms/step - loss: 0.0012 - val_loss: 4.1158e-05\n",
      "Epoch 28/100\n",
      "30/30 [==============================] - 2s 67ms/step - loss: 0.0011 - val_loss: 3.9260e-05\n",
      "Epoch 29/100\n",
      "30/30 [==============================] - 2s 69ms/step - loss: 0.0014 - val_loss: 6.8444e-05\n",
      "Epoch 30/100\n",
      "30/30 [==============================] - 2s 68ms/step - loss: 0.0011 - val_loss: 4.8134e-05\n",
      "Epoch 31/100\n",
      "30/30 [==============================] - 2s 67ms/step - loss: 0.0012 - val_loss: 7.3843e-05\n",
      "Epoch 32/100\n",
      "30/30 [==============================] - 2s 68ms/step - loss: 0.0011 - val_loss: 9.6512e-05\n",
      "Epoch 33/100\n",
      "30/30 [==============================] - 2s 70ms/step - loss: 0.0014 - val_loss: 4.0103e-05\n",
      "Epoch 34/100\n",
      "30/30 [==============================] - 2s 83ms/step - loss: 0.0011 - val_loss: 4.6073e-04\n",
      "Epoch 35/100\n",
      "30/30 [==============================] - 2s 68ms/step - loss: 0.0012 - val_loss: 7.7515e-05\n",
      "Epoch 36/100\n",
      "30/30 [==============================] - 2s 68ms/step - loss: 0.0012 - val_loss: 1.2265e-04\n",
      "Epoch 37/100\n",
      "30/30 [==============================] - 2s 69ms/step - loss: 0.0011 - val_loss: 5.9688e-05\n",
      "Epoch 38/100\n",
      "30/30 [==============================] - 2s 68ms/step - loss: 0.0011 - val_loss: 4.6221e-05\n",
      "Epoch 39/100\n",
      "30/30 [==============================] - 2s 68ms/step - loss: 9.5142e-04 - val_loss: 3.9058e-05\n",
      "Epoch 40/100\n",
      "30/30 [==============================] - 2s 69ms/step - loss: 0.0012 - val_loss: 2.9911e-04\n",
      "Epoch 41/100\n",
      "30/30 [==============================] - 2s 68ms/step - loss: 0.0010 - val_loss: 6.8295e-05\n",
      "Epoch 42/100\n",
      "30/30 [==============================] - 2s 69ms/step - loss: 9.9075e-04 - val_loss: 7.1059e-05\n",
      "Epoch 43/100\n",
      "30/30 [==============================] - 2s 69ms/step - loss: 0.0010 - val_loss: 4.0914e-05\n",
      "Epoch 44/100\n",
      "30/30 [==============================] - 2s 69ms/step - loss: 0.0010 - val_loss: 3.5899e-05\n",
      "Epoch 45/100\n",
      "30/30 [==============================] - 2s 69ms/step - loss: 8.5547e-04 - val_loss: 8.8550e-05\n",
      "Epoch 46/100\n",
      "30/30 [==============================] - 2s 70ms/step - loss: 0.0015 - val_loss: 1.4361e-04\n",
      "Epoch 47/100\n",
      "30/30 [==============================] - 2s 70ms/step - loss: 9.3909e-04 - val_loss: 3.8467e-05\n",
      "Epoch 48/100\n",
      "30/30 [==============================] - 2s 69ms/step - loss: 9.7006e-04 - val_loss: 3.4294e-05\n",
      "Epoch 49/100\n",
      "30/30 [==============================] - 2s 69ms/step - loss: 8.6317e-04 - val_loss: 3.6919e-05\n",
      "Epoch 50/100\n",
      "30/30 [==============================] - 2s 69ms/step - loss: 0.0011 - val_loss: 2.0797e-04\n",
      "Epoch 51/100\n",
      "30/30 [==============================] - 2s 69ms/step - loss: 9.2229e-04 - val_loss: 4.0908e-05\n",
      "Epoch 52/100\n",
      "30/30 [==============================] - 2s 70ms/step - loss: 0.0010 - val_loss: 9.1971e-05\n",
      "Epoch 53/100\n",
      "30/30 [==============================] - 2s 69ms/step - loss: 9.6334e-04 - val_loss: 4.3431e-05\n",
      "Epoch 54/100\n",
      "30/30 [==============================] - 2s 70ms/step - loss: 8.6420e-04 - val_loss: 4.1442e-05\n",
      "Epoch 55/100\n",
      "30/30 [==============================] - 2s 69ms/step - loss: 9.4056e-04 - val_loss: 4.1619e-05\n",
      "Epoch 56/100\n",
      "30/30 [==============================] - 2s 70ms/step - loss: 8.4512e-04 - val_loss: 6.5047e-05\n",
      "Epoch 57/100\n",
      "30/30 [==============================] - 2s 70ms/step - loss: 9.0286e-04 - val_loss: 7.4266e-05\n",
      "Epoch 58/100\n",
      "30/30 [==============================] - 2s 71ms/step - loss: 9.0483e-04 - val_loss: 7.5174e-05\n",
      "Epoch 59/100\n",
      "30/30 [==============================] - 2s 70ms/step - loss: 8.8329e-04 - val_loss: 4.4585e-05\n",
      "Epoch 60/100\n",
      "30/30 [==============================] - 2s 70ms/step - loss: 7.8527e-04 - val_loss: 7.2729e-05\n",
      "Epoch 61/100\n",
      "30/30 [==============================] - 2s 70ms/step - loss: 8.8790e-04 - val_loss: 5.0740e-05\n",
      "Epoch 62/100\n",
      "30/30 [==============================] - 2s 70ms/step - loss: 0.0010 - val_loss: 4.3998e-05\n",
      "Epoch 63/100\n",
      "30/30 [==============================] - 2s 71ms/step - loss: 9.7620e-04 - val_loss: 1.3268e-04\n",
      "Epoch 64/100\n",
      "30/30 [==============================] - 2s 70ms/step - loss: 9.9946e-04 - val_loss: 1.2804e-04\n",
      "Epoch 65/100\n",
      "30/30 [==============================] - 2s 70ms/step - loss: 9.0723e-04 - val_loss: 3.5090e-05\n",
      "Epoch 66/100\n",
      "30/30 [==============================] - 2s 70ms/step - loss: 8.4323e-04 - val_loss: 4.5482e-05\n",
      "Epoch 67/100\n",
      "30/30 [==============================] - 2s 70ms/step - loss: 9.0495e-04 - val_loss: 4.9150e-05\n",
      "Epoch 68/100\n",
      "30/30 [==============================] - 2s 70ms/step - loss: 0.0011 - val_loss: 2.7182e-04\n",
      "Epoch 69/100\n",
      "30/30 [==============================] - 2s 70ms/step - loss: 9.1088e-04 - val_loss: 2.0488e-04\n",
      "Epoch 70/100\n",
      "30/30 [==============================] - 2s 69ms/step - loss: 0.0010 - val_loss: 5.3879e-05\n",
      "Epoch 71/100\n",
      "30/30 [==============================] - 2s 70ms/step - loss: 8.9250e-04 - val_loss: 7.9104e-05\n",
      "Epoch 72/100\n",
      "30/30 [==============================] - 2s 69ms/step - loss: 0.0011 - val_loss: 2.0188e-04\n",
      "Epoch 73/100\n",
      "30/30 [==============================] - 2s 70ms/step - loss: 9.2323e-04 - val_loss: 7.1594e-05\n",
      "Epoch 74/100\n",
      "30/30 [==============================] - 2s 69ms/step - loss: 8.7434e-04 - val_loss: 7.8544e-05\n",
      "Epoch 75/100\n",
      "30/30 [==============================] - 2s 69ms/step - loss: 9.5174e-04 - val_loss: 2.4365e-04\n",
      "Epoch 76/100\n",
      "30/30 [==============================] - 2s 71ms/step - loss: 9.0908e-04 - val_loss: 7.5843e-05\n",
      "Epoch 77/100\n",
      "30/30 [==============================] - 2s 70ms/step - loss: 9.9149e-04 - val_loss: 3.5271e-05\n",
      "Epoch 78/100\n",
      "30/30 [==============================] - 2s 69ms/step - loss: 0.0011 - val_loss: 8.4894e-05\n",
      "Epoch 79/100\n",
      "30/30 [==============================] - 2s 69ms/step - loss: 8.3878e-04 - val_loss: 7.0993e-05\n",
      "Epoch 80/100\n",
      "30/30 [==============================] - 2s 69ms/step - loss: 0.0011 - val_loss: 2.0203e-04\n",
      "Epoch 81/100\n",
      "30/30 [==============================] - 2s 70ms/step - loss: 0.0010 - val_loss: 5.6380e-05\n",
      "Epoch 82/100\n",
      "30/30 [==============================] - 2s 71ms/step - loss: 9.1252e-04 - val_loss: 5.2108e-05\n",
      "Epoch 83/100\n",
      "30/30 [==============================] - 2s 69ms/step - loss: 9.1875e-04 - val_loss: 4.5196e-05\n",
      "Epoch 84/100\n",
      "30/30 [==============================] - 2s 70ms/step - loss: 9.4190e-04 - val_loss: 3.1753e-05\n",
      "Epoch 85/100\n",
      "30/30 [==============================] - 2s 71ms/step - loss: 9.3948e-04 - val_loss: 1.2108e-04\n",
      "Epoch 86/100\n",
      "30/30 [==============================] - 2s 70ms/step - loss: 9.5864e-04 - val_loss: 1.0925e-04\n",
      "Epoch 87/100\n",
      "30/30 [==============================] - 2s 71ms/step - loss: 8.6747e-04 - val_loss: 9.5036e-05\n",
      "Epoch 88/100\n",
      "30/30 [==============================] - 2s 70ms/step - loss: 0.0010 - val_loss: 6.4000e-05\n",
      "Epoch 89/100\n",
      "30/30 [==============================] - 2s 71ms/step - loss: 8.8729e-04 - val_loss: 5.9036e-05\n",
      "Epoch 90/100\n",
      "30/30 [==============================] - 2s 71ms/step - loss: 0.0010 - val_loss: 1.6812e-04\n",
      "Epoch 91/100\n",
      "30/30 [==============================] - 2s 71ms/step - loss: 8.8209e-04 - val_loss: 1.1522e-04\n",
      "Epoch 92/100\n",
      "30/30 [==============================] - 2s 70ms/step - loss: 8.6289e-04 - val_loss: 7.9995e-05\n",
      "Epoch 93/100\n",
      "30/30 [==============================] - 2s 71ms/step - loss: 9.3783e-04 - val_loss: 9.5497e-05\n",
      "Epoch 94/100\n",
      "30/30 [==============================] - 2s 69ms/step - loss: 9.1574e-04 - val_loss: 1.7048e-04\n",
      "Epoch 95/100\n",
      "30/30 [==============================] - 2s 71ms/step - loss: 9.0798e-04 - val_loss: 7.4885e-05\n",
      "Epoch 96/100\n",
      "30/30 [==============================] - 2s 70ms/step - loss: 0.0010 - val_loss: 1.0369e-04\n",
      "Epoch 97/100\n",
      "30/30 [==============================] - 2s 71ms/step - loss: 9.4427e-04 - val_loss: 3.3555e-05\n",
      "Epoch 98/100\n",
      "30/30 [==============================] - 2s 71ms/step - loss: 9.4880e-04 - val_loss: 6.7916e-05\n",
      "Epoch 99/100\n",
      "30/30 [==============================] - 2s 72ms/step - loss: 9.0950e-04 - val_loss: 3.0866e-05\n",
      "Epoch 100/100\n",
      "30/30 [==============================] - 2s 70ms/step - loss: 9.0994e-04 - val_loss: 5.8148e-05\n"
     ]
    }
   ],
   "source": [
    "history = model.fit(X_train, y_train, epochs=100, batch_size=64, validation_data=(X_test, y_test), verbose=1)"
   ]
  },
  {
   "cell_type": "markdown",
   "metadata": {
    "id": "U0yqPPM8r3gK"
   },
   "source": [
    "## Model Evaluation"
   ]
  },
  {
   "cell_type": "code",
   "execution_count": 31,
   "metadata": {
    "colab": {
     "base_uri": "https://localhost:8080/"
    },
    "id": "p0S-CiXsr5pE",
    "outputId": "719f17c6-87d2-4c43-983e-5cda10d1b347"
   },
   "outputs": [
    {
     "name": "stdout",
     "output_type": "stream",
     "text": [
      "59/59 [==============================] - 4s 21ms/step\n",
      "12/12 [==============================] - 0s 19ms/step\n"
     ]
    }
   ],
   "source": [
    "train_predict = model.predict(X_train)\n",
    "test_predict = model.predict(X_test)"
   ]
  },
  {
   "cell_type": "code",
   "execution_count": 32,
   "metadata": {
    "id": "DSwX6a1usA5S"
   },
   "outputs": [],
   "source": [
    "train_predict = scaler.inverse_transform(train_predict)\n",
    "test_predict = scaler.inverse_transform(test_predict)"
   ]
  },
  {
   "cell_type": "code",
   "execution_count": 33,
   "metadata": {
    "id": "q97hB9yMsM4V"
   },
   "outputs": [],
   "source": [
    "from sklearn.metrics import mean_squared_error\n",
    "import math\n",
    "train_rmse = math.sqrt(mean_squared_error(y_train, train_predict))\n",
    "test_rmse = math.sqrt(mean_squared_error(y_test, test_predict))"
   ]
  },
  {
   "cell_type": "code",
   "execution_count": 34,
   "metadata": {
    "colab": {
     "base_uri": "https://localhost:8080/"
    },
    "id": "rMedYrPusvGb",
    "outputId": "6a0d27cc-daf0-4445-bbd3-b8d3e123ce27"
   },
   "outputs": [
    {
     "name": "stdout",
     "output_type": "stream",
     "text": [
      "Training RMSE : 211.73721256946538\n",
      "Testing RMSE : 159.25774473869953\n"
     ]
    }
   ],
   "source": [
    "print(f'Training RMSE : {train_rmse}')\n",
    "print(f'Testing RMSE : {test_rmse}')"
   ]
  },
  {
   "cell_type": "code",
   "execution_count": 35,
   "metadata": {
    "colab": {
     "base_uri": "https://localhost:8080/"
    },
    "id": "3C6efC9bzihP",
    "outputId": "3acb5189-bc7e-4857-a979-cca79f303027"
   },
   "outputs": [
    {
     "data": {
      "text/plain": [
       "(353, 1)"
      ]
     },
     "execution_count": 35,
     "metadata": {},
     "output_type": "execute_result"
    }
   ],
   "source": [
    "test_predict.shape"
   ]
  },
  {
   "cell_type": "markdown",
   "metadata": {
    "id": "deLuQNoKI5IV"
   },
   "source": [
    "## Predict the test data and plot the output"
   ]
  },
  {
   "cell_type": "code",
   "execution_count": 49,
   "metadata": {
    "colab": {
     "base_uri": "https://localhost:8080/",
     "height": 430
    },
    "id": "KdQwZDdvsuZh",
    "outputId": "25ef868f-2ec1-46f1-d1d0-19a216b2dab4"
   },
   "outputs": [
    {
     "data": {
      "image/png": "[encoded data removed]",
      "text/plain": [
       "<Figure size 640x480 with 1 Axes>"
      ]
     },
     "metadata": {},
     "output_type": "display_data"
    }
   ],
   "source": [
    "look_back = 150\n",
    "trainPredict_plot = np.empty_like(close_df)\n",
    "trainPredict_plot[:, :] = np.nan\n",
    "trainPredict_plot[look_back : len(train_predict) + look_back , :] = train_predict\n",
    "\n",
    "testPredict_plot = np.empty_like(close_df)\n",
    "testPredict_plot[:, :] = np.nan\n",
    "testPredict_plot[len(train_predict) + (look_back*2) + 1 : len(close_df) - 1, :] = test_predict\n",
    "\n",
    "plt.plot(scaler.inverse_transform(close_df))\n",
    "plt.plot(trainPredict_plot)\n",
    "plt.plot(testPredict_plot)\n",
    "plt.show()"
   ]
  },
  {
   "cell_type": "markdown",
   "metadata": {
    "id": "Njxhu5ACI5Kn"
   },
   "source": [
    "## Predict the Future 30 days and plot the output"
   ]
  },
  {
   "cell_type": "code",
   "execution_count": 50,
   "metadata": {
    "colab": {
     "base_uri": "https://localhost:8080/"
    },
    "id": "XbjWsb8PJbrV",
    "outputId": "b01c36b4-eb28-4ddf-8fe4-515f9710df46"
   },
   "outputs": [
    {
     "data": {
      "text/plain": [
       "504"
      ]
     },
     "execution_count": 50,
     "metadata": {},
     "output_type": "execute_result"
    }
   ],
   "source": [
    "len(test_data)"
   ]
  },
  {
   "cell_type": "code",
   "execution_count": 51,
   "metadata": {
    "colab": {
     "base_uri": "https://localhost:8080/"
    },
    "id": "UZ8UC4T-9_j_",
    "outputId": "68a7e151-cd5d-4589-e672-4b93de10f3d2"
   },
   "outputs": [
    {
     "data": {
      "text/plain": [
       "(1, 150)"
      ]
     },
     "execution_count": 51,
     "metadata": {},
     "output_type": "execute_result"
    }
   ],
   "source": [
    "timestep = 150\n",
    "X_input = test_data[len(test_data)-timestep:].reshape(1, -1)\n",
    "X_input.shape"
   ]
  },
  {
   "cell_type": "code",
   "execution_count": 52,
   "metadata": {
    "colab": {
     "base_uri": "https://localhost:8080/"
    },
    "id": "eMWjY9Ay-T-i",
    "outputId": "fd6a4eab-eaa5-4b7a-efeb-e6dcb48245e1"
   },
   "outputs": [
    {
     "data": {
      "text/plain": [
       "[0.10912452654065016,\n",
       " 0.10381101118351374,\n",
       " 0.09682804674457426,\n",
       " 0.09135297179887622,\n",
       " 0.10366740266034788,\n",
       " 0.1041700324914284,\n",
       " 0.10327247922164182,\n",
       " 0.10115425350494553,\n",
       " 0.09447645717773348,\n",
       " 0.09094009729477445,\n",
       " 0.09400972947744449,\n",
       " 0.09313012727305367,\n",
       " 0.09731272551025907,\n",
       " 0.09907192991904071,\n",
       " 0.09501498913960546,\n",
       " 0.08296982425906976,\n",
       " 0.07939756224531924,\n",
       " 0.07555603425063279,\n",
       " 0.07543037679286269,\n",
       " 0.08108496239251797,\n",
       " 0.07530471933509253,\n",
       " 0.0746405299154505,\n",
       " 0.07135548494803168,\n",
       " 0.0641930098551349,\n",
       " 0.07060154020141099,\n",
       " 0.07117597429407438,\n",
       " 0.062451756511748974,\n",
       " 0.06476744394779829,\n",
       " 0.06236200118477031,\n",
       " 0.0706194912668067,\n",
       " 0.07157089773278044,\n",
       " 0.07261205952573282,\n",
       " 0.07756655357495468,\n",
       " 0.07742294505178882,\n",
       " 0.07984633888021253,\n",
       " 0.08196456459690882,\n",
       " 0.08065413682302047,\n",
       " 0.08076184321539484,\n",
       " 0.08542912021828497,\n",
       " 0.09124526540650188,\n",
       " 0.0937943166926957,\n",
       " 0.09259159531118175,\n",
       " 0.09636131904428527,\n",
       " 0.09989767892724435,\n",
       " 0.0946380167662951,\n",
       " 0.09695370420234437,\n",
       " 0.09900012565745778,\n",
       " 0.10867574990575687,\n",
       " 0.11528174197138599,\n",
       " 0.11030929685676841,\n",
       " 0.11555100795232195,\n",
       " 0.1106503670992873,\n",
       " 0.10876550523273557,\n",
       " 0.10901682014827577,\n",
       " 0.11411492272066345,\n",
       " 0.11294810346994091,\n",
       " 0.11677168039923172,\n",
       " 0.11386360780512325,\n",
       " 0.11178128421921843,\n",
       " 0.10447520060315577,\n",
       " 0.10524709641517224,\n",
       " 0.10612669861956306,\n",
       " 0.10129786202811139,\n",
       " 0.10346994094099485,\n",
       " 0.10255443660581257,\n",
       " 0.09878471287270899,\n",
       " 0.09986177679645283,\n",
       " 0.10905272227906729,\n",
       " 0.11407902058987204,\n",
       " 0.11007593300662391,\n",
       " 0.11235571831188182,\n",
       " 0.1082628754016551,\n",
       " 0.10451110273394723,\n",
       " 0.10804746261690631,\n",
       " 0.11185308848080136,\n",
       " 0.11257113109663061,\n",
       " 0.11770513579980971,\n",
       " 0.11617929524117257,\n",
       " 0.12048755093614807,\n",
       " 0.12386235123054554,\n",
       " 0.1212594467481645,\n",
       " 0.12323406394169492,\n",
       " 0.12560360457393147,\n",
       " 0.12206724469097238,\n",
       " 0.12093632757104136,\n",
       " 0.1265370599745095,\n",
       " 0.12939127937243075,\n",
       " 0.1339508499829465,\n",
       " 0.1362306352882043,\n",
       " 0.13526127775683486,\n",
       " 0.1319044285278331,\n",
       " 0.13352002441344893,\n",
       " 0.1287988942143716,\n",
       " 0.12659091317069668,\n",
       " 0.1253343385929955,\n",
       " 0.13513562029906476,\n",
       " 0.13450733301021414,\n",
       " 0.1345432351410056,\n",
       " 0.1367691672500763,\n",
       " 0.1388514908359811,\n",
       " 0.13709228642719948,\n",
       " 0.13416626276769525,\n",
       " 0.13472274579496293,\n",
       " 0.13192237959322886,\n",
       " 0.1319044285278331,\n",
       " 0.14025167393684815,\n",
       " 0.142531459242106,\n",
       " 0.14236989965354443,\n",
       " 0.14048503778699264,\n",
       " 0.13852837165885792,\n",
       " 0.13554849480316652,\n",
       " 0.14951442368104548,\n",
       " 0.14938876622327532,\n",
       " 0.14628323190981388,\n",
       " 0.14948749708295186,\n",
       " 0.1498375428581686,\n",
       " 0.14771931714147232,\n",
       " 0.14682176387168575,\n",
       " 0.14682176387168575,\n",
       " 0.14793472992622111,\n",
       " 0.1521711813596137,\n",
       " 0.15236864307896672,\n",
       " 0.1506453408009765,\n",
       " 0.14590625953650346,\n",
       " 0.14640888936758398,\n",
       " 0.1484732618880931,\n",
       " 0.15285332184465147,\n",
       " 0.15621017107365323,\n",
       " 0.15612041574667454,\n",
       " 0.16121851831906223,\n",
       " 0.16276230994309507,\n",
       " 0.16030301398387994,\n",
       " 0.15963882456423792,\n",
       " 0.15714362647423122,\n",
       " 0.16208016945805734,\n",
       " 0.16278026100849088,\n",
       " 0.16786041251548275,\n",
       " 0.1669987613764877,\n",
       " 0.16814762956181448,\n",
       " 0.17184554903333513,\n",
       " 0.1698888829052004,\n",
       " 0.17005044249376197,\n",
       " 0.16816558062721024,\n",
       " 0.17362270450751252,\n",
       " 0.17304827041484913,\n",
       " 0.17051717019405102,\n",
       " 0.17552551743946002,\n",
       " 0.17766169422155206,\n",
       " 0.17827203044500692,\n",
       " 0.18613459708833716]"
      ]
     },
     "execution_count": 52,
     "metadata": {},
     "output_type": "execute_result"
    }
   ],
   "source": [
    "temp_input=list(X_input)\n",
    "temp_input=temp_input[0].tolist()\n",
    "temp_input"
   ]
  },
  {
   "cell_type": "code",
   "execution_count": 53,
   "metadata": {
    "colab": {
     "base_uri": "https://localhost:8080/"
    },
    "id": "CaeJ9yai-zC0",
    "outputId": "c449aa38-6199-4dd7-fd2a-c5c22aaf5120"
   },
   "outputs": [
    {
     "name": "stdout",
     "output_type": "stream",
     "text": [
      "[0.18662103]\n",
      "151\n",
      "1 day input [0.10381101 0.09682805 0.09135297 0.1036674  0.10417003 0.10327248\n",
      " 0.10115425 0.09447646 0.0909401  0.09400973 0.09313013 0.09731273\n",
      " 0.09907193 0.09501499 0.08296982 0.07939756 0.07555603 0.07543038\n",
      " 0.08108496 0.07530472 0.07464053 0.07135548 0.06419301 0.07060154\n",
      " 0.07117597 0.06245176 0.06476744 0.062362   0.07061949 0.0715709\n",
      " 0.07261206 0.07756655 0.07742295 0.07984634 0.08196456 0.08065414\n",
      " 0.08076184 0.08542912 0.09124527 0.09379432 0.0925916  0.09636132\n",
      " 0.09989768 0.09463802 0.0969537  0.09900013 0.10867575 0.11528174\n",
      " 0.1103093  0.11555101 0.11065037 0.10876551 0.10901682 0.11411492\n",
      " 0.1129481  0.11677168 0.11386361 0.11178128 0.1044752  0.1052471\n",
      " 0.1061267  0.10129786 0.10346994 0.10255444 0.09878471 0.09986178\n",
      " 0.10905272 0.11407902 0.11007593 0.11235572 0.10826288 0.1045111\n",
      " 0.10804746 0.11185309 0.11257113 0.11770514 0.1161793  0.12048755\n",
      " 0.12386235 0.12125945 0.12323406 0.1256036  0.12206724 0.12093633\n",
      " 0.12653706 0.12939128 0.13395085 0.13623064 0.13526128 0.13190443\n",
      " 0.13352002 0.12879889 0.12659091 0.12533434 0.13513562 0.13450733\n",
      " 0.13454324 0.13676917 0.13885149 0.13709229 0.13416626 0.13472275\n",
      " 0.13192238 0.13190443 0.14025167 0.14253146 0.1423699  0.14048504\n",
      " 0.13852837 0.13554849 0.14951442 0.14938877 0.14628323 0.1494875\n",
      " 0.14983754 0.14771932 0.14682176 0.14682176 0.14793473 0.15217118\n",
      " 0.15236864 0.15064534 0.14590626 0.14640889 0.14847326 0.15285332\n",
      " 0.15621017 0.15612042 0.16121852 0.16276231 0.16030301 0.15963882\n",
      " 0.15714363 0.16208017 0.16278026 0.16786041 0.16699876 0.16814763\n",
      " 0.17184555 0.16988888 0.17005044 0.16816558 0.1736227  0.17304827\n",
      " 0.17051717 0.17552552 0.17766169 0.17827203 0.1861346  0.18662103]\n",
      "1 day output [[0.18859418]]\n",
      "2 day input [0.09682805 0.09135297 0.1036674  0.10417003 0.10327248 0.10115425\n",
      " 0.09447646 0.0909401  0.09400973 0.09313013 0.09731273 0.09907193\n",
      " 0.09501499 0.08296982 0.07939756 0.07555603 0.07543038 0.08108496\n",
      " 0.07530472 0.07464053 0.07135548 0.06419301 0.07060154 0.07117597\n",
      " 0.06245176 0.06476744 0.062362   0.07061949 0.0715709  0.07261206\n",
      " 0.07756655 0.07742295 0.07984634 0.08196456 0.08065414 0.08076184\n",
      " 0.08542912 0.09124527 0.09379432 0.0925916  0.09636132 0.09989768\n",
      " 0.09463802 0.0969537  0.09900013 0.10867575 0.11528174 0.1103093\n",
      " 0.11555101 0.11065037 0.10876551 0.10901682 0.11411492 0.1129481\n",
      " 0.11677168 0.11386361 0.11178128 0.1044752  0.1052471  0.1061267\n",
      " 0.10129786 0.10346994 0.10255444 0.09878471 0.09986178 0.10905272\n",
      " 0.11407902 0.11007593 0.11235572 0.10826288 0.1045111  0.10804746\n",
      " 0.11185309 0.11257113 0.11770514 0.1161793  0.12048755 0.12386235\n",
      " 0.12125945 0.12323406 0.1256036  0.12206724 0.12093633 0.12653706\n",
      " 0.12939128 0.13395085 0.13623064 0.13526128 0.13190443 0.13352002\n",
      " 0.12879889 0.12659091 0.12533434 0.13513562 0.13450733 0.13454324\n",
      " 0.13676917 0.13885149 0.13709229 0.13416626 0.13472275 0.13192238\n",
      " 0.13190443 0.14025167 0.14253146 0.1423699  0.14048504 0.13852837\n",
      " 0.13554849 0.14951442 0.14938877 0.14628323 0.1494875  0.14983754\n",
      " 0.14771932 0.14682176 0.14682176 0.14793473 0.15217118 0.15236864\n",
      " 0.15064534 0.14590626 0.14640889 0.14847326 0.15285332 0.15621017\n",
      " 0.15612042 0.16121852 0.16276231 0.16030301 0.15963882 0.15714363\n",
      " 0.16208017 0.16278026 0.16786041 0.16699876 0.16814763 0.17184555\n",
      " 0.16988888 0.17005044 0.16816558 0.1736227  0.17304827 0.17051717\n",
      " 0.17552552 0.17766169 0.17827203 0.1861346  0.18662103 0.18859418]\n",
      "2 day output [[0.19020273]]\n",
      "3 day input [0.09135297 0.1036674  0.10417003 0.10327248 0.10115425 0.09447646\n",
      " 0.0909401  0.09400973 0.09313013 0.09731273 0.09907193 0.09501499\n",
      " 0.08296982 0.07939756 0.07555603 0.07543038 0.08108496 0.07530472\n",
      " 0.07464053 0.07135548 0.06419301 0.07060154 0.07117597 0.06245176\n",
      " 0.06476744 0.062362   0.07061949 0.0715709  0.07261206 0.07756655\n",
      " 0.07742295 0.07984634 0.08196456 0.08065414 0.08076184 0.08542912\n",
      " 0.09124527 0.09379432 0.0925916  0.09636132 0.09989768 0.09463802\n",
      " 0.0969537  0.09900013 0.10867575 0.11528174 0.1103093  0.11555101\n",
      " 0.11065037 0.10876551 0.10901682 0.11411492 0.1129481  0.11677168\n",
      " 0.11386361 0.11178128 0.1044752  0.1052471  0.1061267  0.10129786\n",
      " 0.10346994 0.10255444 0.09878471 0.09986178 0.10905272 0.11407902\n",
      " 0.11007593 0.11235572 0.10826288 0.1045111  0.10804746 0.11185309\n",
      " 0.11257113 0.11770514 0.1161793  0.12048755 0.12386235 0.12125945\n",
      " 0.12323406 0.1256036  0.12206724 0.12093633 0.12653706 0.12939128\n",
      " 0.13395085 0.13623064 0.13526128 0.13190443 0.13352002 0.12879889\n",
      " 0.12659091 0.12533434 0.13513562 0.13450733 0.13454324 0.13676917\n",
      " 0.13885149 0.13709229 0.13416626 0.13472275 0.13192238 0.13190443\n",
      " 0.14025167 0.14253146 0.1423699  0.14048504 0.13852837 0.13554849\n",
      " 0.14951442 0.14938877 0.14628323 0.1494875  0.14983754 0.14771932\n",
      " 0.14682176 0.14682176 0.14793473 0.15217118 0.15236864 0.15064534\n",
      " 0.14590626 0.14640889 0.14847326 0.15285332 0.15621017 0.15612042\n",
      " 0.16121852 0.16276231 0.16030301 0.15963882 0.15714363 0.16208017\n",
      " 0.16278026 0.16786041 0.16699876 0.16814763 0.17184555 0.16988888\n",
      " 0.17005044 0.16816558 0.1736227  0.17304827 0.17051717 0.17552552\n",
      " 0.17766169 0.17827203 0.1861346  0.18662103 0.18859418 0.19020273]\n",
      "3 day output [[0.19169511]]\n",
      "4 day input [0.1036674  0.10417003 0.10327248 0.10115425 0.09447646 0.0909401\n",
      " 0.09400973 0.09313013 0.09731273 0.09907193 0.09501499 0.08296982\n",
      " 0.07939756 0.07555603 0.07543038 0.08108496 0.07530472 0.07464053\n",
      " 0.07135548 0.06419301 0.07060154 0.07117597 0.06245176 0.06476744\n",
      " 0.062362   0.07061949 0.0715709  0.07261206 0.07756655 0.07742295\n",
      " 0.07984634 0.08196456 0.08065414 0.08076184 0.08542912 0.09124527\n",
      " 0.09379432 0.0925916  0.09636132 0.09989768 0.09463802 0.0969537\n",
      " 0.09900013 0.10867575 0.11528174 0.1103093  0.11555101 0.11065037\n",
      " 0.10876551 0.10901682 0.11411492 0.1129481  0.11677168 0.11386361\n",
      " 0.11178128 0.1044752  0.1052471  0.1061267  0.10129786 0.10346994\n",
      " 0.10255444 0.09878471 0.09986178 0.10905272 0.11407902 0.11007593\n",
      " 0.11235572 0.10826288 0.1045111  0.10804746 0.11185309 0.11257113\n",
      " 0.11770514 0.1161793  0.12048755 0.12386235 0.12125945 0.12323406\n",
      " 0.1256036  0.12206724 0.12093633 0.12653706 0.12939128 0.13395085\n",
      " 0.13623064 0.13526128 0.13190443 0.13352002 0.12879889 0.12659091\n",
      " 0.12533434 0.13513562 0.13450733 0.13454324 0.13676917 0.13885149\n",
      " 0.13709229 0.13416626 0.13472275 0.13192238 0.13190443 0.14025167\n",
      " 0.14253146 0.1423699  0.14048504 0.13852837 0.13554849 0.14951442\n",
      " 0.14938877 0.14628323 0.1494875  0.14983754 0.14771932 0.14682176\n",
      " 0.14682176 0.14793473 0.15217118 0.15236864 0.15064534 0.14590626\n",
      " 0.14640889 0.14847326 0.15285332 0.15621017 0.15612042 0.16121852\n",
      " 0.16276231 0.16030301 0.15963882 0.15714363 0.16208017 0.16278026\n",
      " 0.16786041 0.16699876 0.16814763 0.17184555 0.16988888 0.17005044\n",
      " 0.16816558 0.1736227  0.17304827 0.17051717 0.17552552 0.17766169\n",
      " 0.17827203 0.1861346  0.18662103 0.18859418 0.19020273 0.19169511]\n",
      "4 day output [[0.19319466]]\n",
      "5 day input [0.10417003 0.10327248 0.10115425 0.09447646 0.0909401  0.09400973\n",
      " 0.09313013 0.09731273 0.09907193 0.09501499 0.08296982 0.07939756\n",
      " 0.07555603 0.07543038 0.08108496 0.07530472 0.07464053 0.07135548\n",
      " 0.06419301 0.07060154 0.07117597 0.06245176 0.06476744 0.062362\n",
      " 0.07061949 0.0715709  0.07261206 0.07756655 0.07742295 0.07984634\n",
      " 0.08196456 0.08065414 0.08076184 0.08542912 0.09124527 0.09379432\n",
      " 0.0925916  0.09636132 0.09989768 0.09463802 0.0969537  0.09900013\n",
      " 0.10867575 0.11528174 0.1103093  0.11555101 0.11065037 0.10876551\n",
      " 0.10901682 0.11411492 0.1129481  0.11677168 0.11386361 0.11178128\n",
      " 0.1044752  0.1052471  0.1061267  0.10129786 0.10346994 0.10255444\n",
      " 0.09878471 0.09986178 0.10905272 0.11407902 0.11007593 0.11235572\n",
      " 0.10826288 0.1045111  0.10804746 0.11185309 0.11257113 0.11770514\n",
      " 0.1161793  0.12048755 0.12386235 0.12125945 0.12323406 0.1256036\n",
      " 0.12206724 0.12093633 0.12653706 0.12939128 0.13395085 0.13623064\n",
      " 0.13526128 0.13190443 0.13352002 0.12879889 0.12659091 0.12533434\n",
      " 0.13513562 0.13450733 0.13454324 0.13676917 0.13885149 0.13709229\n",
      " 0.13416626 0.13472275 0.13192238 0.13190443 0.14025167 0.14253146\n",
      " 0.1423699  0.14048504 0.13852837 0.13554849 0.14951442 0.14938877\n",
      " 0.14628323 0.1494875  0.14983754 0.14771932 0.14682176 0.14682176\n",
      " 0.14793473 0.15217118 0.15236864 0.15064534 0.14590626 0.14640889\n",
      " 0.14847326 0.15285332 0.15621017 0.15612042 0.16121852 0.16276231\n",
      " 0.16030301 0.15963882 0.15714363 0.16208017 0.16278026 0.16786041\n",
      " 0.16699876 0.16814763 0.17184555 0.16988888 0.17005044 0.16816558\n",
      " 0.1736227  0.17304827 0.17051717 0.17552552 0.17766169 0.17827203\n",
      " 0.1861346  0.18662103 0.18859418 0.19020273 0.19169511 0.19319466]\n",
      "5 day output [[0.19471622]]\n",
      "6 day input [0.10327248 0.10115425 0.09447646 0.0909401  0.09400973 0.09313013\n",
      " 0.09731273 0.09907193 0.09501499 0.08296982 0.07939756 0.07555603\n",
      " 0.07543038 0.08108496 0.07530472 0.07464053 0.07135548 0.06419301\n",
      " 0.07060154 0.07117597 0.06245176 0.06476744 0.062362   0.07061949\n",
      " 0.0715709  0.07261206 0.07756655 0.07742295 0.07984634 0.08196456\n",
      " 0.08065414 0.08076184 0.08542912 0.09124527 0.09379432 0.0925916\n",
      " 0.09636132 0.09989768 0.09463802 0.0969537  0.09900013 0.10867575\n",
      " 0.11528174 0.1103093  0.11555101 0.11065037 0.10876551 0.10901682\n",
      " 0.11411492 0.1129481  0.11677168 0.11386361 0.11178128 0.1044752\n",
      " 0.1052471  0.1061267  0.10129786 0.10346994 0.10255444 0.09878471\n",
      " 0.09986178 0.10905272 0.11407902 0.11007593 0.11235572 0.10826288\n",
      " 0.1045111  0.10804746 0.11185309 0.11257113 0.11770514 0.1161793\n",
      " 0.12048755 0.12386235 0.12125945 0.12323406 0.1256036  0.12206724\n",
      " 0.12093633 0.12653706 0.12939128 0.13395085 0.13623064 0.13526128\n",
      " 0.13190443 0.13352002 0.12879889 0.12659091 0.12533434 0.13513562\n",
      " 0.13450733 0.13454324 0.13676917 0.13885149 0.13709229 0.13416626\n",
      " 0.13472275 0.13192238 0.13190443 0.14025167 0.14253146 0.1423699\n",
      " 0.14048504 0.13852837 0.13554849 0.14951442 0.14938877 0.14628323\n",
      " 0.1494875  0.14983754 0.14771932 0.14682176 0.14682176 0.14793473\n",
      " 0.15217118 0.15236864 0.15064534 0.14590626 0.14640889 0.14847326\n",
      " 0.15285332 0.15621017 0.15612042 0.16121852 0.16276231 0.16030301\n",
      " 0.15963882 0.15714363 0.16208017 0.16278026 0.16786041 0.16699876\n",
      " 0.16814763 0.17184555 0.16988888 0.17005044 0.16816558 0.1736227\n",
      " 0.17304827 0.17051717 0.17552552 0.17766169 0.17827203 0.1861346\n",
      " 0.18662103 0.18859418 0.19020273 0.19169511 0.19319466 0.19471622]\n",
      "6 day output [[0.19626284]]\n",
      "7 day input [0.10115425 0.09447646 0.0909401  0.09400973 0.09313013 0.09731273\n",
      " 0.09907193 0.09501499 0.08296982 0.07939756 0.07555603 0.07543038\n",
      " 0.08108496 0.07530472 0.07464053 0.07135548 0.06419301 0.07060154\n",
      " 0.07117597 0.06245176 0.06476744 0.062362   0.07061949 0.0715709\n",
      " 0.07261206 0.07756655 0.07742295 0.07984634 0.08196456 0.08065414\n",
      " 0.08076184 0.08542912 0.09124527 0.09379432 0.0925916  0.09636132\n",
      " 0.09989768 0.09463802 0.0969537  0.09900013 0.10867575 0.11528174\n",
      " 0.1103093  0.11555101 0.11065037 0.10876551 0.10901682 0.11411492\n",
      " 0.1129481  0.11677168 0.11386361 0.11178128 0.1044752  0.1052471\n",
      " 0.1061267  0.10129786 0.10346994 0.10255444 0.09878471 0.09986178\n",
      " 0.10905272 0.11407902 0.11007593 0.11235572 0.10826288 0.1045111\n",
      " 0.10804746 0.11185309 0.11257113 0.11770514 0.1161793  0.12048755\n",
      " 0.12386235 0.12125945 0.12323406 0.1256036  0.12206724 0.12093633\n",
      " 0.12653706 0.12939128 0.13395085 0.13623064 0.13526128 0.13190443\n",
      " 0.13352002 0.12879889 0.12659091 0.12533434 0.13513562 0.13450733\n",
      " 0.13454324 0.13676917 0.13885149 0.13709229 0.13416626 0.13472275\n",
      " 0.13192238 0.13190443 0.14025167 0.14253146 0.1423699  0.14048504\n",
      " 0.13852837 0.13554849 0.14951442 0.14938877 0.14628323 0.1494875\n",
      " 0.14983754 0.14771932 0.14682176 0.14682176 0.14793473 0.15217118\n",
      " 0.15236864 0.15064534 0.14590626 0.14640889 0.14847326 0.15285332\n",
      " 0.15621017 0.15612042 0.16121852 0.16276231 0.16030301 0.15963882\n",
      " 0.15714363 0.16208017 0.16278026 0.16786041 0.16699876 0.16814763\n",
      " 0.17184555 0.16988888 0.17005044 0.16816558 0.1736227  0.17304827\n",
      " 0.17051717 0.17552552 0.17766169 0.17827203 0.1861346  0.18662103\n",
      " 0.18859418 0.19020273 0.19169511 0.19319466 0.19471622 0.19626284]\n",
      "7 day output [[0.19779478]]\n",
      "8 day input [0.09447646 0.0909401  0.09400973 0.09313013 0.09731273 0.09907193\n",
      " 0.09501499 0.08296982 0.07939756 0.07555603 0.07543038 0.08108496\n",
      " 0.07530472 0.07464053 0.07135548 0.06419301 0.07060154 0.07117597\n",
      " 0.06245176 0.06476744 0.062362   0.07061949 0.0715709  0.07261206\n",
      " 0.07756655 0.07742295 0.07984634 0.08196456 0.08065414 0.08076184\n",
      " 0.08542912 0.09124527 0.09379432 0.0925916  0.09636132 0.09989768\n",
      " 0.09463802 0.0969537  0.09900013 0.10867575 0.11528174 0.1103093\n",
      " 0.11555101 0.11065037 0.10876551 0.10901682 0.11411492 0.1129481\n",
      " 0.11677168 0.11386361 0.11178128 0.1044752  0.1052471  0.1061267\n",
      " 0.10129786 0.10346994 0.10255444 0.09878471 0.09986178 0.10905272\n",
      " 0.11407902 0.11007593 0.11235572 0.10826288 0.1045111  0.10804746\n",
      " 0.11185309 0.11257113 0.11770514 0.1161793  0.12048755 0.12386235\n",
      " 0.12125945 0.12323406 0.1256036  0.12206724 0.12093633 0.12653706\n",
      " 0.12939128 0.13395085 0.13623064 0.13526128 0.13190443 0.13352002\n",
      " 0.12879889 0.12659091 0.12533434 0.13513562 0.13450733 0.13454324\n",
      " 0.13676917 0.13885149 0.13709229 0.13416626 0.13472275 0.13192238\n",
      " 0.13190443 0.14025167 0.14253146 0.1423699  0.14048504 0.13852837\n",
      " 0.13554849 0.14951442 0.14938877 0.14628323 0.1494875  0.14983754\n",
      " 0.14771932 0.14682176 0.14682176 0.14793473 0.15217118 0.15236864\n",
      " 0.15064534 0.14590626 0.14640889 0.14847326 0.15285332 0.15621017\n",
      " 0.15612042 0.16121852 0.16276231 0.16030301 0.15963882 0.15714363\n",
      " 0.16208017 0.16278026 0.16786041 0.16699876 0.16814763 0.17184555\n",
      " 0.16988888 0.17005044 0.16816558 0.1736227  0.17304827 0.17051717\n",
      " 0.17552552 0.17766169 0.17827203 0.1861346  0.18662103 0.18859418\n",
      " 0.19020273 0.19169511 0.19319466 0.19471622 0.19626284 0.19779478]\n",
      "8 day output [[0.19926088]]\n",
      "9 day input [0.0909401  0.09400973 0.09313013 0.09731273 0.09907193 0.09501499\n",
      " 0.08296982 0.07939756 0.07555603 0.07543038 0.08108496 0.07530472\n",
      " 0.07464053 0.07135548 0.06419301 0.07060154 0.07117597 0.06245176\n",
      " 0.06476744 0.062362   0.07061949 0.0715709  0.07261206 0.07756655\n",
      " 0.07742295 0.07984634 0.08196456 0.08065414 0.08076184 0.08542912\n",
      " 0.09124527 0.09379432 0.0925916  0.09636132 0.09989768 0.09463802\n",
      " 0.0969537  0.09900013 0.10867575 0.11528174 0.1103093  0.11555101\n",
      " 0.11065037 0.10876551 0.10901682 0.11411492 0.1129481  0.11677168\n",
      " 0.11386361 0.11178128 0.1044752  0.1052471  0.1061267  0.10129786\n",
      " 0.10346994 0.10255444 0.09878471 0.09986178 0.10905272 0.11407902\n",
      " 0.11007593 0.11235572 0.10826288 0.1045111  0.10804746 0.11185309\n",
      " 0.11257113 0.11770514 0.1161793  0.12048755 0.12386235 0.12125945\n",
      " 0.12323406 0.1256036  0.12206724 0.12093633 0.12653706 0.12939128\n",
      " 0.13395085 0.13623064 0.13526128 0.13190443 0.13352002 0.12879889\n",
      " 0.12659091 0.12533434 0.13513562 0.13450733 0.13454324 0.13676917\n",
      " 0.13885149 0.13709229 0.13416626 0.13472275 0.13192238 0.13190443\n",
      " 0.14025167 0.14253146 0.1423699  0.14048504 0.13852837 0.13554849\n",
      " 0.14951442 0.14938877 0.14628323 0.1494875  0.14983754 0.14771932\n",
      " 0.14682176 0.14682176 0.14793473 0.15217118 0.15236864 0.15064534\n",
      " 0.14590626 0.14640889 0.14847326 0.15285332 0.15621017 0.15612042\n",
      " 0.16121852 0.16276231 0.16030301 0.15963882 0.15714363 0.16208017\n",
      " 0.16278026 0.16786041 0.16699876 0.16814763 0.17184555 0.16988888\n",
      " 0.17005044 0.16816558 0.1736227  0.17304827 0.17051717 0.17552552\n",
      " 0.17766169 0.17827203 0.1861346  0.18662103 0.18859418 0.19020273\n",
      " 0.19169511 0.19319466 0.19471622 0.19626284 0.19779478 0.19926088]\n",
      "9 day output [[0.20065409]]\n",
      "10 day input [0.09400973 0.09313013 0.09731273 0.09907193 0.09501499 0.08296982\n",
      " 0.07939756 0.07555603 0.07543038 0.08108496 0.07530472 0.07464053\n",
      " 0.07135548 0.06419301 0.07060154 0.07117597 0.06245176 0.06476744\n",
      " 0.062362   0.07061949 0.0715709  0.07261206 0.07756655 0.07742295\n",
      " 0.07984634 0.08196456 0.08065414 0.08076184 0.08542912 0.09124527\n",
      " 0.09379432 0.0925916  0.09636132 0.09989768 0.09463802 0.0969537\n",
      " 0.09900013 0.10867575 0.11528174 0.1103093  0.11555101 0.11065037\n",
      " 0.10876551 0.10901682 0.11411492 0.1129481  0.11677168 0.11386361\n",
      " 0.11178128 0.1044752  0.1052471  0.1061267  0.10129786 0.10346994\n",
      " 0.10255444 0.09878471 0.09986178 0.10905272 0.11407902 0.11007593\n",
      " 0.11235572 0.10826288 0.1045111  0.10804746 0.11185309 0.11257113\n",
      " 0.11770514 0.1161793  0.12048755 0.12386235 0.12125945 0.12323406\n",
      " 0.1256036  0.12206724 0.12093633 0.12653706 0.12939128 0.13395085\n",
      " 0.13623064 0.13526128 0.13190443 0.13352002 0.12879889 0.12659091\n",
      " 0.12533434 0.13513562 0.13450733 0.13454324 0.13676917 0.13885149\n",
      " 0.13709229 0.13416626 0.13472275 0.13192238 0.13190443 0.14025167\n",
      " 0.14253146 0.1423699  0.14048504 0.13852837 0.13554849 0.14951442\n",
      " 0.14938877 0.14628323 0.1494875  0.14983754 0.14771932 0.14682176\n",
      " 0.14682176 0.14793473 0.15217118 0.15236864 0.15064534 0.14590626\n",
      " 0.14640889 0.14847326 0.15285332 0.15621017 0.15612042 0.16121852\n",
      " 0.16276231 0.16030301 0.15963882 0.15714363 0.16208017 0.16278026\n",
      " 0.16786041 0.16699876 0.16814763 0.17184555 0.16988888 0.17005044\n",
      " 0.16816558 0.1736227  0.17304827 0.17051717 0.17552552 0.17766169\n",
      " 0.17827203 0.1861346  0.18662103 0.18859418 0.19020273 0.19169511\n",
      " 0.19319466 0.19471622 0.19626284 0.19779478 0.19926088 0.20065409]\n",
      "10 day output [[0.20200104]]\n",
      "11 day input [0.09313013 0.09731273 0.09907193 0.09501499 0.08296982 0.07939756\n",
      " 0.07555603 0.07543038 0.08108496 0.07530472 0.07464053 0.07135548\n",
      " 0.06419301 0.07060154 0.07117597 0.06245176 0.06476744 0.062362\n",
      " 0.07061949 0.0715709  0.07261206 0.07756655 0.07742295 0.07984634\n",
      " 0.08196456 0.08065414 0.08076184 0.08542912 0.09124527 0.09379432\n",
      " 0.0925916  0.09636132 0.09989768 0.09463802 0.0969537  0.09900013\n",
      " 0.10867575 0.11528174 0.1103093  0.11555101 0.11065037 0.10876551\n",
      " 0.10901682 0.11411492 0.1129481  0.11677168 0.11386361 0.11178128\n",
      " 0.1044752  0.1052471  0.1061267  0.10129786 0.10346994 0.10255444\n",
      " 0.09878471 0.09986178 0.10905272 0.11407902 0.11007593 0.11235572\n",
      " 0.10826288 0.1045111  0.10804746 0.11185309 0.11257113 0.11770514\n",
      " 0.1161793  0.12048755 0.12386235 0.12125945 0.12323406 0.1256036\n",
      " 0.12206724 0.12093633 0.12653706 0.12939128 0.13395085 0.13623064\n",
      " 0.13526128 0.13190443 0.13352002 0.12879889 0.12659091 0.12533434\n",
      " 0.13513562 0.13450733 0.13454324 0.13676917 0.13885149 0.13709229\n",
      " 0.13416626 0.13472275 0.13192238 0.13190443 0.14025167 0.14253146\n",
      " 0.1423699  0.14048504 0.13852837 0.13554849 0.14951442 0.14938877\n",
      " 0.14628323 0.1494875  0.14983754 0.14771932 0.14682176 0.14682176\n",
      " 0.14793473 0.15217118 0.15236864 0.15064534 0.14590626 0.14640889\n",
      " 0.14847326 0.15285332 0.15621017 0.15612042 0.16121852 0.16276231\n",
      " 0.16030301 0.15963882 0.15714363 0.16208017 0.16278026 0.16786041\n",
      " 0.16699876 0.16814763 0.17184555 0.16988888 0.17005044 0.16816558\n",
      " 0.1736227  0.17304827 0.17051717 0.17552552 0.17766169 0.17827203\n",
      " 0.1861346  0.18662103 0.18859418 0.19020273 0.19169511 0.19319466\n",
      " 0.19471622 0.19626284 0.19779478 0.19926088 0.20065409 0.20200104]\n",
      "11 day output [[0.20333739]]\n",
      "12 day input [0.09731273 0.09907193 0.09501499 0.08296982 0.07939756 0.07555603\n",
      " 0.07543038 0.08108496 0.07530472 0.07464053 0.07135548 0.06419301\n",
      " 0.07060154 0.07117597 0.06245176 0.06476744 0.062362   0.07061949\n",
      " 0.0715709  0.07261206 0.07756655 0.07742295 0.07984634 0.08196456\n",
      " 0.08065414 0.08076184 0.08542912 0.09124527 0.09379432 0.0925916\n",
      " 0.09636132 0.09989768 0.09463802 0.0969537  0.09900013 0.10867575\n",
      " 0.11528174 0.1103093  0.11555101 0.11065037 0.10876551 0.10901682\n",
      " 0.11411492 0.1129481  0.11677168 0.11386361 0.11178128 0.1044752\n",
      " 0.1052471  0.1061267  0.10129786 0.10346994 0.10255444 0.09878471\n",
      " 0.09986178 0.10905272 0.11407902 0.11007593 0.11235572 0.10826288\n",
      " 0.1045111  0.10804746 0.11185309 0.11257113 0.11770514 0.1161793\n",
      " 0.12048755 0.12386235 0.12125945 0.12323406 0.1256036  0.12206724\n",
      " 0.12093633 0.12653706 0.12939128 0.13395085 0.13623064 0.13526128\n",
      " 0.13190443 0.13352002 0.12879889 0.12659091 0.12533434 0.13513562\n",
      " 0.13450733 0.13454324 0.13676917 0.13885149 0.13709229 0.13416626\n",
      " 0.13472275 0.13192238 0.13190443 0.14025167 0.14253146 0.1423699\n",
      " 0.14048504 0.13852837 0.13554849 0.14951442 0.14938877 0.14628323\n",
      " 0.1494875  0.14983754 0.14771932 0.14682176 0.14682176 0.14793473\n",
      " 0.15217118 0.15236864 0.15064534 0.14590626 0.14640889 0.14847326\n",
      " 0.15285332 0.15621017 0.15612042 0.16121852 0.16276231 0.16030301\n",
      " 0.15963882 0.15714363 0.16208017 0.16278026 0.16786041 0.16699876\n",
      " 0.16814763 0.17184555 0.16988888 0.17005044 0.16816558 0.1736227\n",
      " 0.17304827 0.17051717 0.17552552 0.17766169 0.17827203 0.1861346\n",
      " 0.18662103 0.18859418 0.19020273 0.19169511 0.19319466 0.19471622\n",
      " 0.19626284 0.19779478 0.19926088 0.20065409 0.20200104 0.20333739]\n",
      "12 day output [[0.20472345]]\n",
      "13 day input [0.09907193 0.09501499 0.08296982 0.07939756 0.07555603 0.07543038\n",
      " 0.08108496 0.07530472 0.07464053 0.07135548 0.06419301 0.07060154\n",
      " 0.07117597 0.06245176 0.06476744 0.062362   0.07061949 0.0715709\n",
      " 0.07261206 0.07756655 0.07742295 0.07984634 0.08196456 0.08065414\n",
      " 0.08076184 0.08542912 0.09124527 0.09379432 0.0925916  0.09636132\n",
      " 0.09989768 0.09463802 0.0969537  0.09900013 0.10867575 0.11528174\n",
      " 0.1103093  0.11555101 0.11065037 0.10876551 0.10901682 0.11411492\n",
      " 0.1129481  0.11677168 0.11386361 0.11178128 0.1044752  0.1052471\n",
      " 0.1061267  0.10129786 0.10346994 0.10255444 0.09878471 0.09986178\n",
      " 0.10905272 0.11407902 0.11007593 0.11235572 0.10826288 0.1045111\n",
      " 0.10804746 0.11185309 0.11257113 0.11770514 0.1161793  0.12048755\n",
      " 0.12386235 0.12125945 0.12323406 0.1256036  0.12206724 0.12093633\n",
      " 0.12653706 0.12939128 0.13395085 0.13623064 0.13526128 0.13190443\n",
      " 0.13352002 0.12879889 0.12659091 0.12533434 0.13513562 0.13450733\n",
      " 0.13454324 0.13676917 0.13885149 0.13709229 0.13416626 0.13472275\n",
      " 0.13192238 0.13190443 0.14025167 0.14253146 0.1423699  0.14048504\n",
      " 0.13852837 0.13554849 0.14951442 0.14938877 0.14628323 0.1494875\n",
      " 0.14983754 0.14771932 0.14682176 0.14682176 0.14793473 0.15217118\n",
      " 0.15236864 0.15064534 0.14590626 0.14640889 0.14847326 0.15285332\n",
      " 0.15621017 0.15612042 0.16121852 0.16276231 0.16030301 0.15963882\n",
      " 0.15714363 0.16208017 0.16278026 0.16786041 0.16699876 0.16814763\n",
      " 0.17184555 0.16988888 0.17005044 0.16816558 0.1736227  0.17304827\n",
      " 0.17051717 0.17552552 0.17766169 0.17827203 0.1861346  0.18662103\n",
      " 0.18859418 0.19020273 0.19169511 0.19319466 0.19471622 0.19626284\n",
      " 0.19779478 0.19926088 0.20065409 0.20200104 0.20333739 0.20472345]\n",
      "13 day output [[0.20616737]]\n",
      "14 day input [0.09501499 0.08296982 0.07939756 0.07555603 0.07543038 0.08108496\n",
      " 0.07530472 0.07464053 0.07135548 0.06419301 0.07060154 0.07117597\n",
      " 0.06245176 0.06476744 0.062362   0.07061949 0.0715709  0.07261206\n",
      " 0.07756655 0.07742295 0.07984634 0.08196456 0.08065414 0.08076184\n",
      " 0.08542912 0.09124527 0.09379432 0.0925916  0.09636132 0.09989768\n",
      " 0.09463802 0.0969537  0.09900013 0.10867575 0.11528174 0.1103093\n",
      " 0.11555101 0.11065037 0.10876551 0.10901682 0.11411492 0.1129481\n",
      " 0.11677168 0.11386361 0.11178128 0.1044752  0.1052471  0.1061267\n",
      " 0.10129786 0.10346994 0.10255444 0.09878471 0.09986178 0.10905272\n",
      " 0.11407902 0.11007593 0.11235572 0.10826288 0.1045111  0.10804746\n",
      " 0.11185309 0.11257113 0.11770514 0.1161793  0.12048755 0.12386235\n",
      " 0.12125945 0.12323406 0.1256036  0.12206724 0.12093633 0.12653706\n",
      " 0.12939128 0.13395085 0.13623064 0.13526128 0.13190443 0.13352002\n",
      " 0.12879889 0.12659091 0.12533434 0.13513562 0.13450733 0.13454324\n",
      " 0.13676917 0.13885149 0.13709229 0.13416626 0.13472275 0.13192238\n",
      " 0.13190443 0.14025167 0.14253146 0.1423699  0.14048504 0.13852837\n",
      " 0.13554849 0.14951442 0.14938877 0.14628323 0.1494875  0.14983754\n",
      " 0.14771932 0.14682176 0.14682176 0.14793473 0.15217118 0.15236864\n",
      " 0.15064534 0.14590626 0.14640889 0.14847326 0.15285332 0.15621017\n",
      " 0.15612042 0.16121852 0.16276231 0.16030301 0.15963882 0.15714363\n",
      " 0.16208017 0.16278026 0.16786041 0.16699876 0.16814763 0.17184555\n",
      " 0.16988888 0.17005044 0.16816558 0.1736227  0.17304827 0.17051717\n",
      " 0.17552552 0.17766169 0.17827203 0.1861346  0.18662103 0.18859418\n",
      " 0.19020273 0.19169511 0.19319466 0.19471622 0.19626284 0.19779478\n",
      " 0.19926088 0.20065409 0.20200104 0.20333739 0.20472345 0.20616737]\n",
      "14 day output [[0.20763037]]\n",
      "15 day input [0.08296982 0.07939756 0.07555603 0.07543038 0.08108496 0.07530472\n",
      " 0.07464053 0.07135548 0.06419301 0.07060154 0.07117597 0.06245176\n",
      " 0.06476744 0.062362   0.07061949 0.0715709  0.07261206 0.07756655\n",
      " 0.07742295 0.07984634 0.08196456 0.08065414 0.08076184 0.08542912\n",
      " 0.09124527 0.09379432 0.0925916  0.09636132 0.09989768 0.09463802\n",
      " 0.0969537  0.09900013 0.10867575 0.11528174 0.1103093  0.11555101\n",
      " 0.11065037 0.10876551 0.10901682 0.11411492 0.1129481  0.11677168\n",
      " 0.11386361 0.11178128 0.1044752  0.1052471  0.1061267  0.10129786\n",
      " 0.10346994 0.10255444 0.09878471 0.09986178 0.10905272 0.11407902\n",
      " 0.11007593 0.11235572 0.10826288 0.1045111  0.10804746 0.11185309\n",
      " 0.11257113 0.11770514 0.1161793  0.12048755 0.12386235 0.12125945\n",
      " 0.12323406 0.1256036  0.12206724 0.12093633 0.12653706 0.12939128\n",
      " 0.13395085 0.13623064 0.13526128 0.13190443 0.13352002 0.12879889\n",
      " 0.12659091 0.12533434 0.13513562 0.13450733 0.13454324 0.13676917\n",
      " 0.13885149 0.13709229 0.13416626 0.13472275 0.13192238 0.13190443\n",
      " 0.14025167 0.14253146 0.1423699  0.14048504 0.13852837 0.13554849\n",
      " 0.14951442 0.14938877 0.14628323 0.1494875  0.14983754 0.14771932\n",
      " 0.14682176 0.14682176 0.14793473 0.15217118 0.15236864 0.15064534\n",
      " 0.14590626 0.14640889 0.14847326 0.15285332 0.15621017 0.15612042\n",
      " 0.16121852 0.16276231 0.16030301 0.15963882 0.15714363 0.16208017\n",
      " 0.16278026 0.16786041 0.16699876 0.16814763 0.17184555 0.16988888\n",
      " 0.17005044 0.16816558 0.1736227  0.17304827 0.17051717 0.17552552\n",
      " 0.17766169 0.17827203 0.1861346  0.18662103 0.18859418 0.19020273\n",
      " 0.19169511 0.19319466 0.19471622 0.19626284 0.19779478 0.19926088\n",
      " 0.20065409 0.20200104 0.20333739 0.20472345 0.20616737 0.20763037]\n",
      "15 day output [[0.20906302]]\n",
      "16 day input [0.07939756 0.07555603 0.07543038 0.08108496 0.07530472 0.07464053\n",
      " 0.07135548 0.06419301 0.07060154 0.07117597 0.06245176 0.06476744\n",
      " 0.062362   0.07061949 0.0715709  0.07261206 0.07756655 0.07742295\n",
      " 0.07984634 0.08196456 0.08065414 0.08076184 0.08542912 0.09124527\n",
      " 0.09379432 0.0925916  0.09636132 0.09989768 0.09463802 0.0969537\n",
      " 0.09900013 0.10867575 0.11528174 0.1103093  0.11555101 0.11065037\n",
      " 0.10876551 0.10901682 0.11411492 0.1129481  0.11677168 0.11386361\n",
      " 0.11178128 0.1044752  0.1052471  0.1061267  0.10129786 0.10346994\n",
      " 0.10255444 0.09878471 0.09986178 0.10905272 0.11407902 0.11007593\n",
      " 0.11235572 0.10826288 0.1045111  0.10804746 0.11185309 0.11257113\n",
      " 0.11770514 0.1161793  0.12048755 0.12386235 0.12125945 0.12323406\n",
      " 0.1256036  0.12206724 0.12093633 0.12653706 0.12939128 0.13395085\n",
      " 0.13623064 0.13526128 0.13190443 0.13352002 0.12879889 0.12659091\n",
      " 0.12533434 0.13513562 0.13450733 0.13454324 0.13676917 0.13885149\n",
      " 0.13709229 0.13416626 0.13472275 0.13192238 0.13190443 0.14025167\n",
      " 0.14253146 0.1423699  0.14048504 0.13852837 0.13554849 0.14951442\n",
      " 0.14938877 0.14628323 0.1494875  0.14983754 0.14771932 0.14682176\n",
      " 0.14682176 0.14793473 0.15217118 0.15236864 0.15064534 0.14590626\n",
      " 0.14640889 0.14847326 0.15285332 0.15621017 0.15612042 0.16121852\n",
      " 0.16276231 0.16030301 0.15963882 0.15714363 0.16208017 0.16278026\n",
      " 0.16786041 0.16699876 0.16814763 0.17184555 0.16988888 0.17005044\n",
      " 0.16816558 0.1736227  0.17304827 0.17051717 0.17552552 0.17766169\n",
      " 0.17827203 0.1861346  0.18662103 0.18859418 0.19020273 0.19169511\n",
      " 0.19319466 0.19471622 0.19626284 0.19779478 0.19926088 0.20065409\n",
      " 0.20200104 0.20333739 0.20472345 0.20616737 0.20763037 0.20906302]\n",
      "16 day output [[0.21046111]]\n",
      "17 day input [0.07555603 0.07543038 0.08108496 0.07530472 0.07464053 0.07135548\n",
      " 0.06419301 0.07060154 0.07117597 0.06245176 0.06476744 0.062362\n",
      " 0.07061949 0.0715709  0.07261206 0.07756655 0.07742295 0.07984634\n",
      " 0.08196456 0.08065414 0.08076184 0.08542912 0.09124527 0.09379432\n",
      " 0.0925916  0.09636132 0.09989768 0.09463802 0.0969537  0.09900013\n",
      " 0.10867575 0.11528174 0.1103093  0.11555101 0.11065037 0.10876551\n",
      " 0.10901682 0.11411492 0.1129481  0.11677168 0.11386361 0.11178128\n",
      " 0.1044752  0.1052471  0.1061267  0.10129786 0.10346994 0.10255444\n",
      " 0.09878471 0.09986178 0.10905272 0.11407902 0.11007593 0.11235572\n",
      " 0.10826288 0.1045111  0.10804746 0.11185309 0.11257113 0.11770514\n",
      " 0.1161793  0.12048755 0.12386235 0.12125945 0.12323406 0.1256036\n",
      " 0.12206724 0.12093633 0.12653706 0.12939128 0.13395085 0.13623064\n",
      " 0.13526128 0.13190443 0.13352002 0.12879889 0.12659091 0.12533434\n",
      " 0.13513562 0.13450733 0.13454324 0.13676917 0.13885149 0.13709229\n",
      " 0.13416626 0.13472275 0.13192238 0.13190443 0.14025167 0.14253146\n",
      " 0.1423699  0.14048504 0.13852837 0.13554849 0.14951442 0.14938877\n",
      " 0.14628323 0.1494875  0.14983754 0.14771932 0.14682176 0.14682176\n",
      " 0.14793473 0.15217118 0.15236864 0.15064534 0.14590626 0.14640889\n",
      " 0.14847326 0.15285332 0.15621017 0.15612042 0.16121852 0.16276231\n",
      " 0.16030301 0.15963882 0.15714363 0.16208017 0.16278026 0.16786041\n",
      " 0.16699876 0.16814763 0.17184555 0.16988888 0.17005044 0.16816558\n",
      " 0.1736227  0.17304827 0.17051717 0.17552552 0.17766169 0.17827203\n",
      " 0.1861346  0.18662103 0.18859418 0.19020273 0.19169511 0.19319466\n",
      " 0.19471622 0.19626284 0.19779478 0.19926088 0.20065409 0.20200104\n",
      " 0.20333739 0.20472345 0.20616737 0.20763037 0.20906302 0.21046111]\n",
      "17 day output [[0.21182418]]\n",
      "18 day input [0.07543038 0.08108496 0.07530472 0.07464053 0.07135548 0.06419301\n",
      " 0.07060154 0.07117597 0.06245176 0.06476744 0.062362   0.07061949\n",
      " 0.0715709  0.07261206 0.07756655 0.07742295 0.07984634 0.08196456\n",
      " 0.08065414 0.08076184 0.08542912 0.09124527 0.09379432 0.0925916\n",
      " 0.09636132 0.09989768 0.09463802 0.0969537  0.09900013 0.10867575\n",
      " 0.11528174 0.1103093  0.11555101 0.11065037 0.10876551 0.10901682\n",
      " 0.11411492 0.1129481  0.11677168 0.11386361 0.11178128 0.1044752\n",
      " 0.1052471  0.1061267  0.10129786 0.10346994 0.10255444 0.09878471\n",
      " 0.09986178 0.10905272 0.11407902 0.11007593 0.11235572 0.10826288\n",
      " 0.1045111  0.10804746 0.11185309 0.11257113 0.11770514 0.1161793\n",
      " 0.12048755 0.12386235 0.12125945 0.12323406 0.1256036  0.12206724\n",
      " 0.12093633 0.12653706 0.12939128 0.13395085 0.13623064 0.13526128\n",
      " 0.13190443 0.13352002 0.12879889 0.12659091 0.12533434 0.13513562\n",
      " 0.13450733 0.13454324 0.13676917 0.13885149 0.13709229 0.13416626\n",
      " 0.13472275 0.13192238 0.13190443 0.14025167 0.14253146 0.1423699\n",
      " 0.14048504 0.13852837 0.13554849 0.14951442 0.14938877 0.14628323\n",
      " 0.1494875  0.14983754 0.14771932 0.14682176 0.14682176 0.14793473\n",
      " 0.15217118 0.15236864 0.15064534 0.14590626 0.14640889 0.14847326\n",
      " 0.15285332 0.15621017 0.15612042 0.16121852 0.16276231 0.16030301\n",
      " 0.15963882 0.15714363 0.16208017 0.16278026 0.16786041 0.16699876\n",
      " 0.16814763 0.17184555 0.16988888 0.17005044 0.16816558 0.1736227\n",
      " 0.17304827 0.17051717 0.17552552 0.17766169 0.17827203 0.1861346\n",
      " 0.18662103 0.18859418 0.19020273 0.19169511 0.19319466 0.19471622\n",
      " 0.19626284 0.19779478 0.19926088 0.20065409 0.20200104 0.20333739\n",
      " 0.20472345 0.20616737 0.20763037 0.20906302 0.21046111 0.21182418]\n",
      "18 day output [[0.21318401]]\n",
      "19 day input [0.08108496 0.07530472 0.07464053 0.07135548 0.06419301 0.07060154\n",
      " 0.07117597 0.06245176 0.06476744 0.062362   0.07061949 0.0715709\n",
      " 0.07261206 0.07756655 0.07742295 0.07984634 0.08196456 0.08065414\n",
      " 0.08076184 0.08542912 0.09124527 0.09379432 0.0925916  0.09636132\n",
      " 0.09989768 0.09463802 0.0969537  0.09900013 0.10867575 0.11528174\n",
      " 0.1103093  0.11555101 0.11065037 0.10876551 0.10901682 0.11411492\n",
      " 0.1129481  0.11677168 0.11386361 0.11178128 0.1044752  0.1052471\n",
      " 0.1061267  0.10129786 0.10346994 0.10255444 0.09878471 0.09986178\n",
      " 0.10905272 0.11407902 0.11007593 0.11235572 0.10826288 0.1045111\n",
      " 0.10804746 0.11185309 0.11257113 0.11770514 0.1161793  0.12048755\n",
      " 0.12386235 0.12125945 0.12323406 0.1256036  0.12206724 0.12093633\n",
      " 0.12653706 0.12939128 0.13395085 0.13623064 0.13526128 0.13190443\n",
      " 0.13352002 0.12879889 0.12659091 0.12533434 0.13513562 0.13450733\n",
      " 0.13454324 0.13676917 0.13885149 0.13709229 0.13416626 0.13472275\n",
      " 0.13192238 0.13190443 0.14025167 0.14253146 0.1423699  0.14048504\n",
      " 0.13852837 0.13554849 0.14951442 0.14938877 0.14628323 0.1494875\n",
      " 0.14983754 0.14771932 0.14682176 0.14682176 0.14793473 0.15217118\n",
      " 0.15236864 0.15064534 0.14590626 0.14640889 0.14847326 0.15285332\n",
      " 0.15621017 0.15612042 0.16121852 0.16276231 0.16030301 0.15963882\n",
      " 0.15714363 0.16208017 0.16278026 0.16786041 0.16699876 0.16814763\n",
      " 0.17184555 0.16988888 0.17005044 0.16816558 0.1736227  0.17304827\n",
      " 0.17051717 0.17552552 0.17766169 0.17827203 0.1861346  0.18662103\n",
      " 0.18859418 0.19020273 0.19169511 0.19319466 0.19471622 0.19626284\n",
      " 0.19779478 0.19926088 0.20065409 0.20200104 0.20333739 0.20472345\n",
      " 0.20616737 0.20763037 0.20906302 0.21046111 0.21182418 0.21318401]\n",
      "19 day output [[0.21456215]]\n",
      "20 day input [0.07530472 0.07464053 0.07135548 0.06419301 0.07060154 0.07117597\n",
      " 0.06245176 0.06476744 0.062362   0.07061949 0.0715709  0.07261206\n",
      " 0.07756655 0.07742295 0.07984634 0.08196456 0.08065414 0.08076184\n",
      " 0.08542912 0.09124527 0.09379432 0.0925916  0.09636132 0.09989768\n",
      " 0.09463802 0.0969537  0.09900013 0.10867575 0.11528174 0.1103093\n",
      " 0.11555101 0.11065037 0.10876551 0.10901682 0.11411492 0.1129481\n",
      " 0.11677168 0.11386361 0.11178128 0.1044752  0.1052471  0.1061267\n",
      " 0.10129786 0.10346994 0.10255444 0.09878471 0.09986178 0.10905272\n",
      " 0.11407902 0.11007593 0.11235572 0.10826288 0.1045111  0.10804746\n",
      " 0.11185309 0.11257113 0.11770514 0.1161793  0.12048755 0.12386235\n",
      " 0.12125945 0.12323406 0.1256036  0.12206724 0.12093633 0.12653706\n",
      " 0.12939128 0.13395085 0.13623064 0.13526128 0.13190443 0.13352002\n",
      " 0.12879889 0.12659091 0.12533434 0.13513562 0.13450733 0.13454324\n",
      " 0.13676917 0.13885149 0.13709229 0.13416626 0.13472275 0.13192238\n",
      " 0.13190443 0.14025167 0.14253146 0.1423699  0.14048504 0.13852837\n",
      " 0.13554849 0.14951442 0.14938877 0.14628323 0.1494875  0.14983754\n",
      " 0.14771932 0.14682176 0.14682176 0.14793473 0.15217118 0.15236864\n",
      " 0.15064534 0.14590626 0.14640889 0.14847326 0.15285332 0.15621017\n",
      " 0.15612042 0.16121852 0.16276231 0.16030301 0.15963882 0.15714363\n",
      " 0.16208017 0.16278026 0.16786041 0.16699876 0.16814763 0.17184555\n",
      " 0.16988888 0.17005044 0.16816558 0.1736227  0.17304827 0.17051717\n",
      " 0.17552552 0.17766169 0.17827203 0.1861346  0.18662103 0.18859418\n",
      " 0.19020273 0.19169511 0.19319466 0.19471622 0.19626284 0.19779478\n",
      " 0.19926088 0.20065409 0.20200104 0.20333739 0.20472345 0.20616737\n",
      " 0.20763037 0.20906302 0.21046111 0.21182418 0.21318401 0.21456215]\n",
      "20 day output [[0.2159368]]\n",
      "21 day input [0.07464053 0.07135548 0.06419301 0.07060154 0.07117597 0.06245176\n",
      " 0.06476744 0.062362   0.07061949 0.0715709  0.07261206 0.07756655\n",
      " 0.07742295 0.07984634 0.08196456 0.08065414 0.08076184 0.08542912\n",
      " 0.09124527 0.09379432 0.0925916  0.09636132 0.09989768 0.09463802\n",
      " 0.0969537  0.09900013 0.10867575 0.11528174 0.1103093  0.11555101\n",
      " 0.11065037 0.10876551 0.10901682 0.11411492 0.1129481  0.11677168\n",
      " 0.11386361 0.11178128 0.1044752  0.1052471  0.1061267  0.10129786\n",
      " 0.10346994 0.10255444 0.09878471 0.09986178 0.10905272 0.11407902\n",
      " 0.11007593 0.11235572 0.10826288 0.1045111  0.10804746 0.11185309\n",
      " 0.11257113 0.11770514 0.1161793  0.12048755 0.12386235 0.12125945\n",
      " 0.12323406 0.1256036  0.12206724 0.12093633 0.12653706 0.12939128\n",
      " 0.13395085 0.13623064 0.13526128 0.13190443 0.13352002 0.12879889\n",
      " 0.12659091 0.12533434 0.13513562 0.13450733 0.13454324 0.13676917\n",
      " 0.13885149 0.13709229 0.13416626 0.13472275 0.13192238 0.13190443\n",
      " 0.14025167 0.14253146 0.1423699  0.14048504 0.13852837 0.13554849\n",
      " 0.14951442 0.14938877 0.14628323 0.1494875  0.14983754 0.14771932\n",
      " 0.14682176 0.14682176 0.14793473 0.15217118 0.15236864 0.15064534\n",
      " 0.14590626 0.14640889 0.14847326 0.15285332 0.15621017 0.15612042\n",
      " 0.16121852 0.16276231 0.16030301 0.15963882 0.15714363 0.16208017\n",
      " 0.16278026 0.16786041 0.16699876 0.16814763 0.17184555 0.16988888\n",
      " 0.17005044 0.16816558 0.1736227  0.17304827 0.17051717 0.17552552\n",
      " 0.17766169 0.17827203 0.1861346  0.18662103 0.18859418 0.19020273\n",
      " 0.19169511 0.19319466 0.19471622 0.19626284 0.19779478 0.19926088\n",
      " 0.20065409 0.20200104 0.20333739 0.20472345 0.20616737 0.20763037\n",
      " 0.20906302 0.21046111 0.21182418 0.21318401 0.21456215 0.21593679]\n",
      "21 day output [[0.21731623]]\n",
      "22 day input [0.07135548 0.06419301 0.07060154 0.07117597 0.06245176 0.06476744\n",
      " 0.062362   0.07061949 0.0715709  0.07261206 0.07756655 0.07742295\n",
      " 0.07984634 0.08196456 0.08065414 0.08076184 0.08542912 0.09124527\n",
      " 0.09379432 0.0925916  0.09636132 0.09989768 0.09463802 0.0969537\n",
      " 0.09900013 0.10867575 0.11528174 0.1103093  0.11555101 0.11065037\n",
      " 0.10876551 0.10901682 0.11411492 0.1129481  0.11677168 0.11386361\n",
      " 0.11178128 0.1044752  0.1052471  0.1061267  0.10129786 0.10346994\n",
      " 0.10255444 0.09878471 0.09986178 0.10905272 0.11407902 0.11007593\n",
      " 0.11235572 0.10826288 0.1045111  0.10804746 0.11185309 0.11257113\n",
      " 0.11770514 0.1161793  0.12048755 0.12386235 0.12125945 0.12323406\n",
      " 0.1256036  0.12206724 0.12093633 0.12653706 0.12939128 0.13395085\n",
      " 0.13623064 0.13526128 0.13190443 0.13352002 0.12879889 0.12659091\n",
      " 0.12533434 0.13513562 0.13450733 0.13454324 0.13676917 0.13885149\n",
      " 0.13709229 0.13416626 0.13472275 0.13192238 0.13190443 0.14025167\n",
      " 0.14253146 0.1423699  0.14048504 0.13852837 0.13554849 0.14951442\n",
      " 0.14938877 0.14628323 0.1494875  0.14983754 0.14771932 0.14682176\n",
      " 0.14682176 0.14793473 0.15217118 0.15236864 0.15064534 0.14590626\n",
      " 0.14640889 0.14847326 0.15285332 0.15621017 0.15612042 0.16121852\n",
      " 0.16276231 0.16030301 0.15963882 0.15714363 0.16208017 0.16278026\n",
      " 0.16786041 0.16699876 0.16814763 0.17184555 0.16988888 0.17005044\n",
      " 0.16816558 0.1736227  0.17304827 0.17051717 0.17552552 0.17766169\n",
      " 0.17827203 0.1861346  0.18662103 0.18859418 0.19020273 0.19169511\n",
      " 0.19319466 0.19471622 0.19626284 0.19779478 0.19926088 0.20065409\n",
      " 0.20200104 0.20333739 0.20472345 0.20616737 0.20763037 0.20906302\n",
      " 0.21046111 0.21182418 0.21318401 0.21456215 0.21593679 0.21731623]\n",
      "22 day output [[0.21868905]]\n",
      "23 day input [0.06419301 0.07060154 0.07117597 0.06245176 0.06476744 0.062362\n",
      " 0.07061949 0.0715709  0.07261206 0.07756655 0.07742295 0.07984634\n",
      " 0.08196456 0.08065414 0.08076184 0.08542912 0.09124527 0.09379432\n",
      " 0.0925916  0.09636132 0.09989768 0.09463802 0.0969537  0.09900013\n",
      " 0.10867575 0.11528174 0.1103093  0.11555101 0.11065037 0.10876551\n",
      " 0.10901682 0.11411492 0.1129481  0.11677168 0.11386361 0.11178128\n",
      " 0.1044752  0.1052471  0.1061267  0.10129786 0.10346994 0.10255444\n",
      " 0.09878471 0.09986178 0.10905272 0.11407902 0.11007593 0.11235572\n",
      " 0.10826288 0.1045111  0.10804746 0.11185309 0.11257113 0.11770514\n",
      " 0.1161793  0.12048755 0.12386235 0.12125945 0.12323406 0.1256036\n",
      " 0.12206724 0.12093633 0.12653706 0.12939128 0.13395085 0.13623064\n",
      " 0.13526128 0.13190443 0.13352002 0.12879889 0.12659091 0.12533434\n",
      " 0.13513562 0.13450733 0.13454324 0.13676917 0.13885149 0.13709229\n",
      " 0.13416626 0.13472275 0.13192238 0.13190443 0.14025167 0.14253146\n",
      " 0.1423699  0.14048504 0.13852837 0.13554849 0.14951442 0.14938877\n",
      " 0.14628323 0.1494875  0.14983754 0.14771932 0.14682176 0.14682176\n",
      " 0.14793473 0.15217118 0.15236864 0.15064534 0.14590626 0.14640889\n",
      " 0.14847326 0.15285332 0.15621017 0.15612042 0.16121852 0.16276231\n",
      " 0.16030301 0.15963882 0.15714363 0.16208017 0.16278026 0.16786041\n",
      " 0.16699876 0.16814763 0.17184555 0.16988888 0.17005044 0.16816558\n",
      " 0.1736227  0.17304827 0.17051717 0.17552552 0.17766169 0.17827203\n",
      " 0.1861346  0.18662103 0.18859418 0.19020273 0.19169511 0.19319466\n",
      " 0.19471622 0.19626284 0.19779478 0.19926088 0.20065409 0.20200104\n",
      " 0.20333739 0.20472345 0.20616737 0.20763037 0.20906302 0.21046111\n",
      " 0.21182418 0.21318401 0.21456215 0.21593679 0.21731623 0.21868905]\n",
      "23 day output [[0.22006704]]\n",
      "24 day input [0.07060154 0.07117597 0.06245176 0.06476744 0.062362   0.07061949\n",
      " 0.0715709  0.07261206 0.07756655 0.07742295 0.07984634 0.08196456\n",
      " 0.08065414 0.08076184 0.08542912 0.09124527 0.09379432 0.0925916\n",
      " 0.09636132 0.09989768 0.09463802 0.0969537  0.09900013 0.10867575\n",
      " 0.11528174 0.1103093  0.11555101 0.11065037 0.10876551 0.10901682\n",
      " 0.11411492 0.1129481  0.11677168 0.11386361 0.11178128 0.1044752\n",
      " 0.1052471  0.1061267  0.10129786 0.10346994 0.10255444 0.09878471\n",
      " 0.09986178 0.10905272 0.11407902 0.11007593 0.11235572 0.10826288\n",
      " 0.1045111  0.10804746 0.11185309 0.11257113 0.11770514 0.1161793\n",
      " 0.12048755 0.12386235 0.12125945 0.12323406 0.1256036  0.12206724\n",
      " 0.12093633 0.12653706 0.12939128 0.13395085 0.13623064 0.13526128\n",
      " 0.13190443 0.13352002 0.12879889 0.12659091 0.12533434 0.13513562\n",
      " 0.13450733 0.13454324 0.13676917 0.13885149 0.13709229 0.13416626\n",
      " 0.13472275 0.13192238 0.13190443 0.14025167 0.14253146 0.1423699\n",
      " 0.14048504 0.13852837 0.13554849 0.14951442 0.14938877 0.14628323\n",
      " 0.1494875  0.14983754 0.14771932 0.14682176 0.14682176 0.14793473\n",
      " 0.15217118 0.15236864 0.15064534 0.14590626 0.14640889 0.14847326\n",
      " 0.15285332 0.15621017 0.15612042 0.16121852 0.16276231 0.16030301\n",
      " 0.15963882 0.15714363 0.16208017 0.16278026 0.16786041 0.16699876\n",
      " 0.16814763 0.17184555 0.16988888 0.17005044 0.16816558 0.1736227\n",
      " 0.17304827 0.17051717 0.17552552 0.17766169 0.17827203 0.1861346\n",
      " 0.18662103 0.18859418 0.19020273 0.19169511 0.19319466 0.19471622\n",
      " 0.19626284 0.19779478 0.19926088 0.20065409 0.20200104 0.20333739\n",
      " 0.20472345 0.20616737 0.20763037 0.20906302 0.21046111 0.21182418\n",
      " 0.21318401 0.21456215 0.21593679 0.21731623 0.21868905 0.22006704]\n",
      "24 day output [[0.22148691]]\n",
      "25 day input [0.07117597 0.06245176 0.06476744 0.062362   0.07061949 0.0715709\n",
      " 0.07261206 0.07756655 0.07742295 0.07984634 0.08196456 0.08065414\n",
      " 0.08076184 0.08542912 0.09124527 0.09379432 0.0925916  0.09636132\n",
      " 0.09989768 0.09463802 0.0969537  0.09900013 0.10867575 0.11528174\n",
      " 0.1103093  0.11555101 0.11065037 0.10876551 0.10901682 0.11411492\n",
      " 0.1129481  0.11677168 0.11386361 0.11178128 0.1044752  0.1052471\n",
      " 0.1061267  0.10129786 0.10346994 0.10255444 0.09878471 0.09986178\n",
      " 0.10905272 0.11407902 0.11007593 0.11235572 0.10826288 0.1045111\n",
      " 0.10804746 0.11185309 0.11257113 0.11770514 0.1161793  0.12048755\n",
      " 0.12386235 0.12125945 0.12323406 0.1256036  0.12206724 0.12093633\n",
      " 0.12653706 0.12939128 0.13395085 0.13623064 0.13526128 0.13190443\n",
      " 0.13352002 0.12879889 0.12659091 0.12533434 0.13513562 0.13450733\n",
      " 0.13454324 0.13676917 0.13885149 0.13709229 0.13416626 0.13472275\n",
      " 0.13192238 0.13190443 0.14025167 0.14253146 0.1423699  0.14048504\n",
      " 0.13852837 0.13554849 0.14951442 0.14938877 0.14628323 0.1494875\n",
      " 0.14983754 0.14771932 0.14682176 0.14682176 0.14793473 0.15217118\n",
      " 0.15236864 0.15064534 0.14590626 0.14640889 0.14847326 0.15285332\n",
      " 0.15621017 0.15612042 0.16121852 0.16276231 0.16030301 0.15963882\n",
      " 0.15714363 0.16208017 0.16278026 0.16786041 0.16699876 0.16814763\n",
      " 0.17184555 0.16988888 0.17005044 0.16816558 0.1736227  0.17304827\n",
      " 0.17051717 0.17552552 0.17766169 0.17827203 0.1861346  0.18662103\n",
      " 0.18859418 0.19020273 0.19169511 0.19319466 0.19471622 0.19626284\n",
      " 0.19779478 0.19926088 0.20065409 0.20200104 0.20333739 0.20472345\n",
      " 0.20616737 0.20763037 0.20906302 0.21046111 0.21182418 0.21318401\n",
      " 0.21456215 0.21593679 0.21731623 0.21868905 0.22006704 0.22148691]\n",
      "25 day output [[0.222908]]\n",
      "26 day input [0.06245176 0.06476744 0.062362   0.07061949 0.0715709  0.07261206\n",
      " 0.07756655 0.07742295 0.07984634 0.08196456 0.08065414 0.08076184\n",
      " 0.08542912 0.09124527 0.09379432 0.0925916  0.09636132 0.09989768\n",
      " 0.09463802 0.0969537  0.09900013 0.10867575 0.11528174 0.1103093\n",
      " 0.11555101 0.11065037 0.10876551 0.10901682 0.11411492 0.1129481\n",
      " 0.11677168 0.11386361 0.11178128 0.1044752  0.1052471  0.1061267\n",
      " 0.10129786 0.10346994 0.10255444 0.09878471 0.09986178 0.10905272\n",
      " 0.11407902 0.11007593 0.11235572 0.10826288 0.1045111  0.10804746\n",
      " 0.11185309 0.11257113 0.11770514 0.1161793  0.12048755 0.12386235\n",
      " 0.12125945 0.12323406 0.1256036  0.12206724 0.12093633 0.12653706\n",
      " 0.12939128 0.13395085 0.13623064 0.13526128 0.13190443 0.13352002\n",
      " 0.12879889 0.12659091 0.12533434 0.13513562 0.13450733 0.13454324\n",
      " 0.13676917 0.13885149 0.13709229 0.13416626 0.13472275 0.13192238\n",
      " 0.13190443 0.14025167 0.14253146 0.1423699  0.14048504 0.13852837\n",
      " 0.13554849 0.14951442 0.14938877 0.14628323 0.1494875  0.14983754\n",
      " 0.14771932 0.14682176 0.14682176 0.14793473 0.15217118 0.15236864\n",
      " 0.15064534 0.14590626 0.14640889 0.14847326 0.15285332 0.15621017\n",
      " 0.15612042 0.16121852 0.16276231 0.16030301 0.15963882 0.15714363\n",
      " 0.16208017 0.16278026 0.16786041 0.16699876 0.16814763 0.17184555\n",
      " 0.16988888 0.17005044 0.16816558 0.1736227  0.17304827 0.17051717\n",
      " 0.17552552 0.17766169 0.17827203 0.1861346  0.18662103 0.18859418\n",
      " 0.19020273 0.19169511 0.19319466 0.19471622 0.19626284 0.19779478\n",
      " 0.19926088 0.20065409 0.20200104 0.20333739 0.20472345 0.20616737\n",
      " 0.20763037 0.20906302 0.21046111 0.21182418 0.21318401 0.21456215\n",
      " 0.21593679 0.21731623 0.21868905 0.22006704 0.22148691 0.22290801]\n",
      "26 day output [[0.22428404]]\n",
      "27 day input [0.06476744 0.062362   0.07061949 0.0715709  0.07261206 0.07756655\n",
      " 0.07742295 0.07984634 0.08196456 0.08065414 0.08076184 0.08542912\n",
      " 0.09124527 0.09379432 0.0925916  0.09636132 0.09989768 0.09463802\n",
      " 0.0969537  0.09900013 0.10867575 0.11528174 0.1103093  0.11555101\n",
      " 0.11065037 0.10876551 0.10901682 0.11411492 0.1129481  0.11677168\n",
      " 0.11386361 0.11178128 0.1044752  0.1052471  0.1061267  0.10129786\n",
      " 0.10346994 0.10255444 0.09878471 0.09986178 0.10905272 0.11407902\n",
      " 0.11007593 0.11235572 0.10826288 0.1045111  0.10804746 0.11185309\n",
      " 0.11257113 0.11770514 0.1161793  0.12048755 0.12386235 0.12125945\n",
      " 0.12323406 0.1256036  0.12206724 0.12093633 0.12653706 0.12939128\n",
      " 0.13395085 0.13623064 0.13526128 0.13190443 0.13352002 0.12879889\n",
      " 0.12659091 0.12533434 0.13513562 0.13450733 0.13454324 0.13676917\n",
      " 0.13885149 0.13709229 0.13416626 0.13472275 0.13192238 0.13190443\n",
      " 0.14025167 0.14253146 0.1423699  0.14048504 0.13852837 0.13554849\n",
      " 0.14951442 0.14938877 0.14628323 0.1494875  0.14983754 0.14771932\n",
      " 0.14682176 0.14682176 0.14793473 0.15217118 0.15236864 0.15064534\n",
      " 0.14590626 0.14640889 0.14847326 0.15285332 0.15621017 0.15612042\n",
      " 0.16121852 0.16276231 0.16030301 0.15963882 0.15714363 0.16208017\n",
      " 0.16278026 0.16786041 0.16699876 0.16814763 0.17184555 0.16988888\n",
      " 0.17005044 0.16816558 0.1736227  0.17304827 0.17051717 0.17552552\n",
      " 0.17766169 0.17827203 0.1861346  0.18662103 0.18859418 0.19020273\n",
      " 0.19169511 0.19319466 0.19471622 0.19626284 0.19779478 0.19926088\n",
      " 0.20065409 0.20200104 0.20333739 0.20472345 0.20616737 0.20763037\n",
      " 0.20906302 0.21046111 0.21182418 0.21318401 0.21456215 0.21593679\n",
      " 0.21731623 0.21868905 0.22006704 0.22148691 0.22290801 0.22428404]\n",
      "27 day output [[0.22561708]]\n",
      "28 day input [0.062362   0.07061949 0.0715709  0.07261206 0.07756655 0.07742295\n",
      " 0.07984634 0.08196456 0.08065414 0.08076184 0.08542912 0.09124527\n",
      " 0.09379432 0.0925916  0.09636132 0.09989768 0.09463802 0.0969537\n",
      " 0.09900013 0.10867575 0.11528174 0.1103093  0.11555101 0.11065037\n",
      " 0.10876551 0.10901682 0.11411492 0.1129481  0.11677168 0.11386361\n",
      " 0.11178128 0.1044752  0.1052471  0.1061267  0.10129786 0.10346994\n",
      " 0.10255444 0.09878471 0.09986178 0.10905272 0.11407902 0.11007593\n",
      " 0.11235572 0.10826288 0.1045111  0.10804746 0.11185309 0.11257113\n",
      " 0.11770514 0.1161793  0.12048755 0.12386235 0.12125945 0.12323406\n",
      " 0.1256036  0.12206724 0.12093633 0.12653706 0.12939128 0.13395085\n",
      " 0.13623064 0.13526128 0.13190443 0.13352002 0.12879889 0.12659091\n",
      " 0.12533434 0.13513562 0.13450733 0.13454324 0.13676917 0.13885149\n",
      " 0.13709229 0.13416626 0.13472275 0.13192238 0.13190443 0.14025167\n",
      " 0.14253146 0.1423699  0.14048504 0.13852837 0.13554849 0.14951442\n",
      " 0.14938877 0.14628323 0.1494875  0.14983754 0.14771932 0.14682176\n",
      " 0.14682176 0.14793473 0.15217118 0.15236864 0.15064534 0.14590626\n",
      " 0.14640889 0.14847326 0.15285332 0.15621017 0.15612042 0.16121852\n",
      " 0.16276231 0.16030301 0.15963882 0.15714363 0.16208017 0.16278026\n",
      " 0.16786041 0.16699876 0.16814763 0.17184555 0.16988888 0.17005044\n",
      " 0.16816558 0.1736227  0.17304827 0.17051717 0.17552552 0.17766169\n",
      " 0.17827203 0.1861346  0.18662103 0.18859418 0.19020273 0.19169511\n",
      " 0.19319466 0.19471622 0.19626284 0.19779478 0.19926088 0.20065409\n",
      " 0.20200104 0.20333739 0.20472345 0.20616737 0.20763037 0.20906302\n",
      " 0.21046111 0.21182418 0.21318401 0.21456215 0.21593679 0.21731623\n",
      " 0.21868905 0.22006704 0.22148691 0.22290801 0.22428404 0.22561708]\n",
      "28 day output [[0.2268963]]\n",
      "29 day input [0.07061949 0.0715709  0.07261206 0.07756655 0.07742295 0.07984634\n",
      " 0.08196456 0.08065414 0.08076184 0.08542912 0.09124527 0.09379432\n",
      " 0.0925916  0.09636132 0.09989768 0.09463802 0.0969537  0.09900013\n",
      " 0.10867575 0.11528174 0.1103093  0.11555101 0.11065037 0.10876551\n",
      " 0.10901682 0.11411492 0.1129481  0.11677168 0.11386361 0.11178128\n",
      " 0.1044752  0.1052471  0.1061267  0.10129786 0.10346994 0.10255444\n",
      " 0.09878471 0.09986178 0.10905272 0.11407902 0.11007593 0.11235572\n",
      " 0.10826288 0.1045111  0.10804746 0.11185309 0.11257113 0.11770514\n",
      " 0.1161793  0.12048755 0.12386235 0.12125945 0.12323406 0.1256036\n",
      " 0.12206724 0.12093633 0.12653706 0.12939128 0.13395085 0.13623064\n",
      " 0.13526128 0.13190443 0.13352002 0.12879889 0.12659091 0.12533434\n",
      " 0.13513562 0.13450733 0.13454324 0.13676917 0.13885149 0.13709229\n",
      " 0.13416626 0.13472275 0.13192238 0.13190443 0.14025167 0.14253146\n",
      " 0.1423699  0.14048504 0.13852837 0.13554849 0.14951442 0.14938877\n",
      " 0.14628323 0.1494875  0.14983754 0.14771932 0.14682176 0.14682176\n",
      " 0.14793473 0.15217118 0.15236864 0.15064534 0.14590626 0.14640889\n",
      " 0.14847326 0.15285332 0.15621017 0.15612042 0.16121852 0.16276231\n",
      " 0.16030301 0.15963882 0.15714363 0.16208017 0.16278026 0.16786041\n",
      " 0.16699876 0.16814763 0.17184555 0.16988888 0.17005044 0.16816558\n",
      " 0.1736227  0.17304827 0.17051717 0.17552552 0.17766169 0.17827203\n",
      " 0.1861346  0.18662103 0.18859418 0.19020273 0.19169511 0.19319466\n",
      " 0.19471622 0.19626284 0.19779478 0.19926088 0.20065409 0.20200104\n",
      " 0.20333739 0.20472345 0.20616737 0.20763037 0.20906302 0.21046111\n",
      " 0.21182418 0.21318401 0.21456215 0.21593679 0.21731623 0.21868905\n",
      " 0.22006704 0.22148691 0.22290801 0.22428404 0.22561708 0.2268963 ]\n",
      "29 day output [[0.22814882]]\n",
      "[[0.1866210252046585], [0.18859417736530304], [0.1902027279138565], [0.19169510900974274], [0.1931946575641632], [0.194716215133667], [0.19626283645629883], [0.19779478013515472], [0.199260875582695], [0.20065408945083618], [0.20200103521347046], [0.2033373862504959], [0.20472344756126404], [0.20616737008094788], [0.20763036608695984], [0.20906302332878113], [0.2104611098766327], [0.2118241786956787], [0.21318401396274567], [0.21456214785575867], [0.2159367948770523], [0.21731622517108917], [0.21868905425071716], [0.22006703913211823], [0.2214869111776352], [0.22290800511837006], [0.22428403794765472], [0.22561708092689514], [0.22689630091190338], [0.22814881801605225]]\n"
     ]
    }
   ],
   "source": [
    "# demonstrate prediction for next 10 days\n",
    "from numpy import array\n",
    "\n",
    "lst_output=[]\n",
    "n_steps=150\n",
    "i=0\n",
    "while(i<30):\n",
    "\n",
    "    if(len(temp_input)>150):\n",
    "        #print(temp_input)\n",
    "        X_input=np.array(temp_input[1:])\n",
    "        print(\"{} day input {}\".format(i,X_input))\n",
    "        X_input=X_input.reshape(1,-1)\n",
    "        X_input = X_input.reshape((1, n_steps, 1))\n",
    "        #print(x_input)\n",
    "        yhat = model.predict(X_input, verbose=0)\n",
    "        print(\"{} day output {}\".format(i,yhat))\n",
    "        temp_input.extend(yhat[0].tolist())\n",
    "        temp_input=temp_input[1:]\n",
    "        #print(temp_input)\n",
    "        lst_output.extend(yhat.tolist())\n",
    "        i=i+1\n",
    "    else:\n",
    "        X_input = X_input.reshape((1, n_steps,1))\n",
    "        yhat = model.predict(X_input, verbose=0)\n",
    "        print(yhat[0])\n",
    "        temp_input.extend(yhat[0].tolist())\n",
    "        print(len(temp_input))\n",
    "        lst_output.extend(yhat.tolist())\n",
    "        i=i+1\n",
    "\n",
    "\n",
    "print(lst_output)"
   ]
  },
  {
   "cell_type": "code",
   "execution_count": null,
   "metadata": {},
   "outputs": [],
   "source": [
    "day_new = np.arange(1, 152)\n",
    "day_pred = np.arange(len(close_df) + 1, len(close_df) + len(lst_output) + 1)"
   ]
  },
  {
   "cell_type": "code",
   "execution_count": 72,
   "metadata": {
    "colab": {
     "base_uri": "https://localhost:8080/"
    },
    "id": "bYsXcsHPAhQD",
    "outputId": "7401a547-f7e9-4a33-b858-f11ec411bee7"
   },
   "outputs": [
    {
     "data": {
      "text/plain": [
       "2518"
      ]
     },
     "execution_count": 72,
     "metadata": {},
     "output_type": "execute_result"
    }
   ],
   "source": [
    "len(close_df)"
   ]
  },
  {
   "cell_type": "code",
   "execution_count": 76,
   "metadata": {
    "colab": {
     "base_uri": "https://localhost:8080/",
     "height": 430
    },
    "id": "F4AUetmOAj7i",
    "outputId": "244c2af2-2793-4604-fc65-a8e8d23c3c57"
   },
   "outputs": [
    {
     "data": {
      "image/png": "[encoded data removed]",
      "text/plain": [
       "<Figure size 640x480 with 1 Axes>"
      ]
     },
     "metadata": {},
     "output_type": "display_data"
    }
   ],
   "source": [
    "plt.plot(day_new, scaler.inverse_transform(close_df))\n",
    "plt.plot(day_pred, scaler.inverse_transform(lst_output))\n",
    "plt.show()"
   ]
  },
  {
   "cell_type": "code",
   "execution_count": 74,
   "metadata": {
    "colab": {
     "base_uri": "https://localhost:8080/",
     "height": 447
    },
    "id": "0l81IofTAuI8",
    "outputId": "49d07a31-1004-49d6-92f9-41345bc2e589"
   },
   "outputs": [
    {
     "data": {
      "text/plain": [
       "[<matplotlib.lines.Line2D at 0x7f3a269ec850>]"
      ]
     },
     "execution_count": 74,
     "metadata": {},
     "output_type": "execute_result"
    },
    {
     "data": {
      "image/png": "[encoded data removed]",
      "text/plain": [
       "<Figure size 640x480 with 1 Axes>"
      ]
     },
     "metadata": {},
     "output_type": "display_data"
    }
   ],
   "source": [
    "df3=close_df.tolist()\n",
    "df3.extend(lst_output)\n",
    "plt.plot(df3[1200:])"
   ]
  },
  {
   "cell_type": "code",
   "execution_count": 77,
   "metadata": {
    "id": "t0u88kA4BUx6"
   },
   "outputs": [],
   "source": [
    "model.save('./Deep Learning Models/stock_bidirectional_lstm_model.h5')"
   ]
  },
  {
   "cell_type": "code",
   "execution_count": null,
   "metadata": {
    "id": "9To-QJdXCzFQ"
   },
   "outputs": [],
   "source": []
  }
 ],
 "metadata": {
  "accelerator": "GPU",
  "colab": {
   "gpuType": "T4",
   "provenance": []
  },
  "kernelspec": {
   "display_name": "Python 3 (ipykernel)",
   "language": "python",
   "name": "python3"
  },
  "language_info": {
   "codemirror_mode": {
    "name": "ipython",
    "version": 3
   },
   "file_extension": ".py",
   "mimetype": "text/x-python",
   "name": "python",
   "nbconvert_exporter": "python",
   "pygments_lexer": "ipython3",
   "version": "3.10.9"
  }
 },
 "nbformat": 4,
 "nbformat_minor": 4
}
